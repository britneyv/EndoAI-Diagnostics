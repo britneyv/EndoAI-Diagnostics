{
 "cells": [
  {
   "cell_type": "markdown",
   "id": "86f46bb0",
   "metadata": {},
   "source": [
    "# Deep Learning Augmented Model Training with Hyperparameter Tuning\n",
    "\n",
    "## This notebooks contains the experiment conducted of augmenting the GLENDA dataset and then applying hyperparameter tuning"
   ]
  },
  {
   "cell_type": "markdown",
   "id": "ef4ab7e4",
   "metadata": {},
   "source": [
    "##### pip install keras-tuner"
   ]
  },
  {
   "cell_type": "code",
   "execution_count": null,
   "id": "79313b63",
   "metadata": {},
   "outputs": [],
   "source": [
    "import gc\n",
    "del X  # Delete large variables\n",
    "gc.collect()  # Free memory"
   ]
  },
  {
   "cell_type": "code",
   "execution_count": 1,
   "id": "f5903f38",
   "metadata": {},
   "outputs": [],
   "source": [
    "## Imports\n",
    "import os\n",
    "import shutil\n",
    "import uuid\n",
    "import cv2\n",
    "import warnings\n",
    "import keras\n",
    "import time\n",
    "import numpy as np\n",
    "import pandas as pd\n",
    "import keras_tuner as kt\n",
    "import matplotlib.pyplot as plt\n",
    "import seaborn as sns\n",
    "\n",
    "## Tensorflow Imports\n",
    "from tensorflow.keras.preprocessing.image import load_img, ImageDataGenerator\n",
    "from tensorflow.keras.preprocessing import image\n",
    "from tensorflow.keras.callbacks import EarlyStopping\n",
    "from tensorflow.keras.utils import plot_model, to_categorical\n",
    "from tensorflow.keras.models import Sequential\n",
    "from tensorflow.keras.layers import Conv2D, Dense, MaxPooling2D, Activation, Flatten, Dropout, BatchNormalization\n",
    "from tensorflow.keras import models, layers\n",
    "from tensorflow.keras.optimizers import Adam, RMSprop\n",
    "from tensorflow.keras.applications import MobileNetV3Small, MobileNetV3Large, NASNetMobile, EfficientNetB0, EfficientNetV2B0, ConvNeXtTiny, DenseNet121, ResNet50V2, ConvNeXtSmall, ConvNeXtSmall, ConvNeXtBase, InceptionV3, Xception, InceptionResNetV2, VGG16 \n",
    "from tensorflow.keras.applications.resnet50 import ResNet50\n",
    "from tensorflow.keras.applications.resnet50 import preprocess_input, decode_predictions\n",
    "from tensorflow.keras.layers import Input\n",
    "from tensorflow.keras import backend as K\n",
    "\n",
    "## Sklearn Imports\n",
    "from sklearn.preprocessing import OneHotEncoder\n",
    "from sklearn.model_selection import train_test_split, cross_val_score\n",
    "from sklearn.metrics import confusion_matrix, accuracy_score, precision_score, recall_score, f1_score, roc_curve, auc, roc_auc_score, classification_report, precision_recall_curve, ConfusionMatrixDisplay\n",
    "\n",
    "warnings.filterwarnings(\"ignore\")"
   ]
  },
  {
   "cell_type": "code",
   "execution_count": 2,
   "id": "f8123c9d",
   "metadata": {},
   "outputs": [
    {
     "name": "stdout",
     "output_type": "stream",
     "text": [
      "Dataset size after augmentation: (51364, 224, 224, 3), Labels: (51364,)\n"
     ]
    }
   ],
   "source": [
    "# Try with 2000 samples from each class\n",
    "X = []\n",
    "y = []\n",
    "classes = ['no_pathology_train', 'pathology_train']\n",
    "base_path = 'C:/Users/vella/Mastes Thesis/processed_data/'\n",
    "\n",
    "# Define Data Augmentation Generator\n",
    "datagen = ImageDataGenerator(\n",
    "    rotation_range=30,  # Rotate images randomly\n",
    "    width_shift_range=0.2,  # Horizontal shift\n",
    "    height_shift_range=0.2,  # Vertical shift\n",
    "    shear_range=0.2,  # Shear transformation\n",
    "    zoom_range=0.2,  # Zoom in/out\n",
    "    horizontal_flip=True,  # Flip images horizontally\n",
    "    brightness_range=[0.8, 1.2],  # Adjust brightness\n",
    "    fill_mode='nearest'  # Fill in missing pixels\n",
    ")\n",
    "\n",
    "# Convert images into numpy arrays and apply augmentation\n",
    "for i, target in enumerate(classes):\n",
    "    files = base_path + target + '/'\n",
    "\n",
    "    for file in os.listdir(files):\n",
    "        # Load the image\n",
    "        img = image.load_img(files + file)\n",
    "        \n",
    "        # Convert it to an array\n",
    "        img_array = image.img_to_array(img, dtype='uint8')\n",
    "\n",
    "        # Resize to 224x224\n",
    "        img_array = cv2.resize(img_array, dsize=(224, 224), interpolation=cv2.INTER_CUBIC)\n",
    "\n",
    "        # Reshape for augmentation (ImageDataGenerator expects shape (1, height, width, channels))\n",
    "        img_array = np.expand_dims(img_array, axis=0)\n",
    "\n",
    "        # Apply augmentation (Generate 1 augmented version per image) \n",
    "        #more than 1 image and will give an error\n",
    "        #MemoryError: Unable to allocate 43.2 GiB for an array with shape (77046, 224, 224, 3) and data type float32\n",
    "        augmented_image = datagen.flow(img_array, batch_size=1).next()[0]  # Extract augmented image\n",
    "\n",
    "        # Append original & augmented image to X\n",
    "        X.append(img_array[0])  # Original image\n",
    "        X.append(augmented_image)  # Augmented image\n",
    "\n",
    "        # Append the target to y (Twice, for original & augmented)\n",
    "        y.append(target)\n",
    "        y.append(target)\n",
    "\n",
    "# Convert lists to numpy arrays\n",
    "X = np.array(X)\n",
    "y = np.array(y)\n",
    "\n",
    "# Encode labels\n",
    "y_dict = {'no_pathology_train': 0, 'pathology_train': 1}\n",
    "y = np.vectorize(y_dict.get)(y)\n",
    "\n",
    "print(f\"Dataset size after augmentation: {X.shape}, Labels: {y.shape}\")"
   ]
  },
  {
   "cell_type": "code",
   "execution_count": 3,
   "id": "92b639ba",
   "metadata": {},
   "outputs": [
    {
     "data": {
      "text/plain": [
       "((51364, 224, 224, 3), (51364,))"
      ]
     },
     "execution_count": 3,
     "metadata": {},
     "output_type": "execute_result"
    }
   ],
   "source": [
    "# shuffle the data\n",
    "shuffler = np.random.permutation(len(X))\n",
    "X = X[shuffler]\n",
    "y = y[shuffler]\n",
    "\n",
    "X.shape, y.shape\n",
    "# y"
   ]
  },
  {
   "cell_type": "code",
   "execution_count": 4,
   "id": "d29f30cd",
   "metadata": {},
   "outputs": [
    {
     "data": {
      "text/plain": [
       "((41091, 224, 224, 3), (41091, 2), (10273, 224, 224, 3), (10273, 2))"
      ]
     },
     "execution_count": 4,
     "metadata": {},
     "output_type": "execute_result"
    }
   ],
   "source": [
    "# Split the data\n",
    "X_train, X_test, y_train, y_test = train_test_split(X, y, train_size=0.8, test_size=0.2, random_state=42)\n",
    "# X_train.shape,y_train.shape,X_test.shape,y_test.shape\n",
    "\n",
    "# convert to binary\n",
    "y_train = to_categorical(y_train)\n",
    "y_test = to_categorical(y_test)\n",
    "y_train.shape, y_test.shape\n",
    "\n",
    "X_train.shape,y_train.shape,X_test.shape,y_test.shape"
   ]
  },
  {
   "cell_type": "code",
   "execution_count": 5,
   "id": "eb82e4e0",
   "metadata": {},
   "outputs": [
    {
     "data": {
      "text/html": [
       "<div>\n",
       "<style scoped>\n",
       "    .dataframe tbody tr th:only-of-type {\n",
       "        vertical-align: middle;\n",
       "    }\n",
       "\n",
       "    .dataframe tbody tr th {\n",
       "        vertical-align: top;\n",
       "    }\n",
       "\n",
       "    .dataframe thead th {\n",
       "        text-align: right;\n",
       "    }\n",
       "</style>\n",
       "<table border=\"1\" class=\"dataframe\">\n",
       "  <thead>\n",
       "    <tr style=\"text-align: right;\">\n",
       "      <th></th>\n",
       "      <th>Metrics</th>\n",
       "    </tr>\n",
       "  </thead>\n",
       "  <tbody>\n",
       "    <tr>\n",
       "      <th>0</th>\n",
       "      <td>Accuracy</td>\n",
       "    </tr>\n",
       "    <tr>\n",
       "      <th>1</th>\n",
       "      <td>Precision</td>\n",
       "    </tr>\n",
       "    <tr>\n",
       "      <th>2</th>\n",
       "      <td>Recall</td>\n",
       "    </tr>\n",
       "    <tr>\n",
       "      <th>3</th>\n",
       "      <td>F1Score</td>\n",
       "    </tr>\n",
       "    <tr>\n",
       "      <th>4</th>\n",
       "      <td>ROC AUC</td>\n",
       "    </tr>\n",
       "  </tbody>\n",
       "</table>\n",
       "</div>"
      ],
      "text/plain": [
       "     Metrics\n",
       "0   Accuracy\n",
       "1  Precision\n",
       "2     Recall\n",
       "3    F1Score\n",
       "4    ROC AUC"
      ]
     },
     "execution_count": 5,
     "metadata": {},
     "output_type": "execute_result"
    }
   ],
   "source": [
    "# For results\n",
    "model_results = pd.DataFrame({'Metrics':['Accuracy', 'Precision', 'Recall', 'F1Score', 'ROC AUC']})\n",
    "model_results.head()"
   ]
  },
  {
   "cell_type": "code",
   "execution_count": 6,
   "id": "18621c4e",
   "metadata": {},
   "outputs": [],
   "source": [
    "## evaluation functions \n",
    "\n",
    "def evaluate(ytest, ypred, xtrain, ytrain):\n",
    "    \n",
    "    accuracy = accuracy_score(ytest, ypred)\n",
    "    precision = precision_score(ytest, ypred)\n",
    "    recall = recall_score(ytest, ypred)\n",
    "    f1score = f1_score(ytest, ypred)\n",
    "    auc = roc_auc_score(ytest, ypred)\n",
    "    conf_matrix = confusion_matrix(ytest, ypred)\n",
    "    \n",
    "    print(\"\\n--------------- Evaluation ---------------\")\n",
    "    print(f'Accuracy: {accuracy:.3}')\n",
    "    print(f'Precision: {precision:.3}')\n",
    "    print(f'Recall: {recall:.3}')\n",
    "    print(f'F1 Score: {f1score:.3}')\n",
    "    print(f'ROC AUC: {auc:.3}')\n",
    "    print(f'\\nClassification Report: ')\n",
    "    print(classification_report(ytest, ypred, target_names=['0 -  Negative (No Pathology)', '1 - Positive (Pathology)']))\n",
    "    #print(f'\\nConfusion Matrix: \\n {conf_matrix}')\n",
    "    print(\"\\n--------------- Visual Evaluation ---------------\")\n",
    "    disp = ConfusionMatrixDisplay.from_predictions(ytest, ypred, cmap = 'cool')\n",
    "    #disp.plot()\n",
    "    fig = disp.figure_\n",
    "    fig.set_figwidth(14)\n",
    "    fig.set_figheight(5) \n",
    "    fig.suptitle('Confusion Matrix', fontsize = 15)\n",
    "    plt.show()\n",
    "        \n",
    "    return accuracy, precision, recall, f1score, auc"
   ]
  },
  {
   "cell_type": "code",
   "execution_count": 7,
   "id": "df7683dc",
   "metadata": {},
   "outputs": [],
   "source": [
    "def plot_curves(model_title, history):\n",
    "    # Curve plots\n",
    "    plt.figure(figsize=(12, 6))\n",
    "\n",
    "    # Accuracy curve plot\n",
    "    plt.subplot(1, 2, 1)\n",
    "    plt.plot(history['accuracy'], label='Training Accuracy')\n",
    "    plt.plot(history['val_accuracy'], label='Validation Accuracy')\n",
    "    plt.title('Accuracy over Epochs')  \n",
    "    plt.xlabel('Epochs')\n",
    "    plt.ylabel('Accuracy')\n",
    "    plt.legend()\n",
    "\n",
    "    # Loss curve plot\n",
    "    plt.subplot(1, 2, 2)\n",
    "    plt.plot(history['loss'], label='Training Loss')\n",
    "    plt.plot(history['val_loss'], label='Validation Loss')\n",
    "    plt.title('Loss over Epochs')  \n",
    "    plt.xlabel('Epochs')\n",
    "    plt.ylabel('Loss')\n",
    "    plt.legend()\n",
    "\n",
    "\n",
    "    # Main title for the entire figure\n",
    "    plt.suptitle(f\"{model_title} Accuracy and Loss Curve Plot\", fontsize=16)\n",
    "    \n",
    "    # Show the plots\n",
    "    plt.tight_layout()\n",
    "    plt.subplots_adjust(top=0.85)  \n",
    "    plt.show()"
   ]
  },
  {
   "cell_type": "code",
   "execution_count": 8,
   "id": "3e8808fd",
   "metadata": {},
   "outputs": [],
   "source": [
    "classes = ['no_pathology_train', 'pathology_train']  # Update this based on your dataset\n",
    "\n",
    "\n",
    "def build_model(hp, model_name):  # Hyperparameter object\n",
    "    K.clear_session()\n",
    "\n",
    "    # Load Pretrained Base Model\n",
    "    init_model = model_name(include_top=False, weights=\"imagenet\", pooling='avg',\n",
    "                                  input_tensor=Input(shape=(224, 224, 3)))\n",
    "\n",
    "    # Freeze Pretrained Weights\n",
    "    init_model.trainable = False\n",
    "\n",
    "    # Define Model\n",
    "    model = Sequential()\n",
    "    model.add(init_model)\n",
    "\n",
    "    # **Tune the number of neurons in the Dense layer**\n",
    "    units = hp.Int('units', min_value=64, max_value=256, step=64)\n",
    "    model.add(Dense(units, activation='relu'))\n",
    "\n",
    "    # **Tune the dropout rate**\n",
    "    dropout = hp.Float('dropout', min_value=0.2, max_value=0.5, step=0.1)\n",
    "    model.add(Dropout(dropout))\n",
    "\n",
    "    model.add(Dense(len(classes), activation='softmax'))\n",
    "\n",
    "    # **Tune the learning rate and optimizer**\n",
    "    optimizer_choice = hp.Choice('optimizer', ['adam', 'rmsprop'])\n",
    "    learning_rate = hp.Choice('lr', [0.0001, 0.001, 0.01])\n",
    "\n",
    "    if optimizer_choice == 'adam':\n",
    "        optimizer = Adam(learning_rate=learning_rate)\n",
    "    else:\n",
    "        optimizer = RMSprop(learning_rate=learning_rate)\n",
    "\n",
    "    # Compile Model\n",
    "    model.compile(optimizer=optimizer, loss='categorical_crossentropy', metrics=['accuracy'])\n",
    "\n",
    "    return model\n"
   ]
  },
  {
   "cell_type": "markdown",
   "id": "3ffc6af8",
   "metadata": {},
   "source": [
    "## MobileNetV3 Small "
   ]
  },
  {
   "cell_type": "code",
   "execution_count": 9,
   "id": "7ecfa5f9",
   "metadata": {},
   "outputs": [
    {
     "name": "stdout",
     "output_type": "stream",
     "text": [
      "Reloading Tuner from tuning_results\\hyperparameter_tuning\\tuner0.json\n",
      "Best Hyperparameters: units=64, dropout=0.2, optimizer=adam, learning rate=0.001\n"
     ]
    }
   ],
   "source": [
    "# Define Tuner\n",
    "tuner = kt.RandomSearch(\n",
    "    lambda hp: build_model(hp, MobileNetV3Small),\n",
    "    objective='val_accuracy',\n",
    "    max_trials=5,  # Number of different hyperparameter combinations to try\n",
    "    executions_per_trial=1,  # Number of times each model is trained\n",
    "    directory='tuning_results',  \n",
    "    project_name='hyperparameter_tuning'\n",
    ")\n",
    "\n",
    "# Stop early if no improvement in 3 epochs\n",
    "callback = EarlyStopping(monitor='val_loss', patience=3, restore_best_weights=True)\n",
    "\n",
    "# Start Hyperparameter Search\n",
    "tuner.search(X_train, y_train, epochs=10, validation_split=0.3, callbacks=[callback])\n",
    "\n",
    "# Get Best Hyperparameters\n",
    "best_hps = tuner.get_best_hyperparameters(num_trials=1)[0]\n",
    "\n",
    "print(f\"Best Hyperparameters: units={best_hps.get('units')}, dropout={best_hps.get('dropout')}, \"\n",
    "      f\"optimizer={best_hps.get('optimizer')}, learning rate={best_hps.get('lr')}\")"
   ]
  },
  {
   "cell_type": "code",
   "execution_count": 10,
   "id": "89378096",
   "metadata": {},
   "outputs": [
    {
     "name": "stdout",
     "output_type": "stream",
     "text": [
      "Epoch 1/20\n",
      "899/899 [==============================] - 296s 314ms/step - loss: 0.1692 - accuracy: 0.9332 - val_loss: 0.0707 - val_accuracy: 0.9800\n",
      "Epoch 2/20\n",
      "899/899 [==============================] - 238s 264ms/step - loss: 0.0630 - accuracy: 0.9785 - val_loss: 0.0386 - val_accuracy: 0.9890\n",
      "Epoch 3/20\n",
      "899/899 [==============================] - 225s 250ms/step - loss: 0.0414 - accuracy: 0.9859 - val_loss: 0.0328 - val_accuracy: 0.9893\n",
      "Epoch 4/20\n",
      "899/899 [==============================] - 224s 249ms/step - loss: 0.0341 - accuracy: 0.9882 - val_loss: 0.0287 - val_accuracy: 0.9912\n",
      "Epoch 5/20\n",
      "899/899 [==============================] - 234s 261ms/step - loss: 0.0255 - accuracy: 0.9909 - val_loss: 0.0175 - val_accuracy: 0.9942\n",
      "Epoch 6/20\n",
      "899/899 [==============================] - 220s 245ms/step - loss: 0.0230 - accuracy: 0.9920 - val_loss: 0.0170 - val_accuracy: 0.9952\n",
      "Epoch 7/20\n",
      "899/899 [==============================] - 224s 250ms/step - loss: 0.0173 - accuracy: 0.9940 - val_loss: 0.0173 - val_accuracy: 0.9945\n",
      "Epoch 8/20\n",
      "899/899 [==============================] - 217s 242ms/step - loss: 0.0195 - accuracy: 0.9921 - val_loss: 0.0189 - val_accuracy: 0.9935\n",
      "Epoch 9/20\n",
      "899/899 [==============================] - 229s 254ms/step - loss: 0.0145 - accuracy: 0.9951 - val_loss: 0.0176 - val_accuracy: 0.9944\n",
      "322/322 [==============================] - 62s 186ms/step\n",
      "\n",
      "--------------- Evaluation ---------------\n",
      "Accuracy: 0.991\n",
      "Precision: 0.99\n",
      "Recall: 0.992\n",
      "F1 Score: 0.991\n",
      "ROC AUC: 0.991\n",
      "\n",
      "Classification Report: \n",
      "                              precision    recall  f1-score   support\n",
      "\n",
      "0 -  Negative (No Pathology)       0.99      0.99      0.99      5322\n",
      "    1 - Positive (Pathology)       0.99      0.99      0.99      4951\n",
      "\n",
      "                    accuracy                           0.99     10273\n",
      "                   macro avg       0.99      0.99      0.99     10273\n",
      "                weighted avg       0.99      0.99      0.99     10273\n",
      "\n",
      "\n",
      "--------------- Visual Evaluation ---------------\n"
     ]
    },
    {
     "data": {
      "image/png": "[encoded data removed]",
      "text/plain": [
       "<Figure size 1008x360 with 2 Axes>"
      ]
     },
     "metadata": {
      "needs_background": "light"
     },
     "output_type": "display_data"
    }
   ],
   "source": [
    "# Build Model with Best Hyperparameters\n",
    "best_model = tuner.hypermodel.build(best_hps)\n",
    "\n",
    "# Train Model\n",
    "history = best_model.fit(X_train, y_train, epochs=20, validation_split=0.3, callbacks=[callback])\n",
    "\n",
    "# Evaluate Model on Test Data\n",
    "pred = best_model.predict(X_test)\n",
    "y_pred = np.argmax(pred, axis=1)\n",
    "y_test = np.argmax(y_test, axis=1)\n",
    "\n",
    "results = evaluate(y_test, y_pred, X_train, y_train)\n",
    "model_results['MobileNetV3 Small'] = results"
   ]
  },
  {
   "cell_type": "markdown",
   "id": "d00fe5e3",
   "metadata": {},
   "source": [
    "## MobileNetV3 Large "
   ]
  },
  {
   "cell_type": "code",
   "execution_count": 11,
   "id": "3a845e7a",
   "metadata": {},
   "outputs": [
    {
     "name": "stdout",
     "output_type": "stream",
     "text": [
      "Reloading Tuner from tuning_results\\hyperparameter_tuning\\tuner0.json\n",
      "Best Hyperparameters: units=64, dropout=0.2, optimizer=adam, learning rate=0.001\n"
     ]
    }
   ],
   "source": [
    "# Define Tuner\n",
    "tuner = kt.RandomSearch(\n",
    "    lambda hp: build_model(hp, MobileNetV3Large),\n",
    "    objective='val_accuracy',\n",
    "    max_trials=5,  # Number of different hyperparameter combinations to try\n",
    "    executions_per_trial=1,  # Number of times each model is trained\n",
    "    directory='tuning_results',  \n",
    "    project_name='hyperparameter_tuning'\n",
    ")\n",
    "\n",
    "# Stop early if no improvement in 3 epochs\n",
    "callback = EarlyStopping(monitor='val_loss', patience=3, restore_best_weights=True)\n",
    "\n",
    "# Start Hyperparameter Search\n",
    "tuner.search(X_train, y_train, epochs=10, validation_split=0.3, callbacks=[callback])\n",
    "\n",
    "# Get Best Hyperparameters\n",
    "best_hps = tuner.get_best_hyperparameters(num_trials=1)[0]\n",
    "\n",
    "print(f\"Best Hyperparameters: units={best_hps.get('units')}, dropout={best_hps.get('dropout')}, \"\n",
    "      f\"optimizer={best_hps.get('optimizer')}, learning rate={best_hps.get('lr')}\")"
   ]
  },
  {
   "cell_type": "code",
   "execution_count": 12,
   "id": "3ebe4434",
   "metadata": {},
   "outputs": [
    {
     "name": "stdout",
     "output_type": "stream",
     "text": [
      "Epoch 1/20\n",
      "899/899 [==============================] - 511s 565ms/step - loss: 0.1070 - accuracy: 0.9594 - val_loss: 0.0323 - val_accuracy: 0.9903\n",
      "Epoch 2/20\n",
      "899/899 [==============================] - 485s 540ms/step - loss: 0.0317 - accuracy: 0.9899 - val_loss: 0.0211 - val_accuracy: 0.9924\n",
      "Epoch 3/20\n",
      "899/899 [==============================] - 493s 549ms/step - loss: 0.0199 - accuracy: 0.9932 - val_loss: 0.0146 - val_accuracy: 0.9953\n",
      "Epoch 4/20\n",
      "899/899 [==============================] - 493s 548ms/step - loss: 0.0154 - accuracy: 0.9947 - val_loss: 0.0115 - val_accuracy: 0.9969\n",
      "Epoch 5/20\n",
      "899/899 [==============================] - 495s 551ms/step - loss: 0.0111 - accuracy: 0.9961 - val_loss: 0.0102 - val_accuracy: 0.9963\n",
      "Epoch 6/20\n",
      "899/899 [==============================] - 498s 554ms/step - loss: 0.0104 - accuracy: 0.9969 - val_loss: 0.0092 - val_accuracy: 0.9971\n",
      "Epoch 7/20\n",
      "899/899 [==============================] - 496s 551ms/step - loss: 0.0111 - accuracy: 0.9958 - val_loss: 0.0085 - val_accuracy: 0.9970\n",
      "Epoch 8/20\n",
      "899/899 [==============================] - 495s 551ms/step - loss: 0.0072 - accuracy: 0.9976 - val_loss: 0.0094 - val_accuracy: 0.9964\n",
      "Epoch 9/20\n",
      "899/899 [==============================] - 490s 546ms/step - loss: 0.0102 - accuracy: 0.9967 - val_loss: 0.0079 - val_accuracy: 0.9973\n",
      "Epoch 10/20\n",
      "899/899 [==============================] - 486s 541ms/step - loss: 0.0056 - accuracy: 0.9982 - val_loss: 0.0117 - val_accuracy: 0.9963\n",
      "Epoch 11/20\n",
      "899/899 [==============================] - 493s 548ms/step - loss: 0.0051 - accuracy: 0.9983 - val_loss: 0.0058 - val_accuracy: 0.9981\n",
      "Epoch 12/20\n",
      "899/899 [==============================] - 499s 555ms/step - loss: 0.0087 - accuracy: 0.9974 - val_loss: 0.0174 - val_accuracy: 0.9951\n",
      "Epoch 13/20\n",
      "899/899 [==============================] - 493s 549ms/step - loss: 0.0081 - accuracy: 0.9970 - val_loss: 0.0054 - val_accuracy: 0.9980\n",
      "Epoch 14/20\n",
      "899/899 [==============================] - 496s 552ms/step - loss: 0.0053 - accuracy: 0.9981 - val_loss: 0.0076 - val_accuracy: 0.9982\n",
      "Epoch 15/20\n",
      "899/899 [==============================] - 493s 549ms/step - loss: 0.0051 - accuracy: 0.9984 - val_loss: 0.0094 - val_accuracy: 0.9976\n",
      "Epoch 16/20\n",
      "899/899 [==============================] - 492s 548ms/step - loss: 0.0054 - accuracy: 0.9982 - val_loss: 0.0129 - val_accuracy: 0.9954\n",
      "322/322 [==============================] - 130s 401ms/step\n",
      "\n",
      "--------------- Evaluation ---------------\n",
      "Accuracy: 0.998\n",
      "Precision: 0.999\n",
      "Recall: 0.997\n",
      "F1 Score: 0.998\n",
      "ROC AUC: 0.998\n",
      "\n",
      "Classification Report: \n",
      "                              precision    recall  f1-score   support\n",
      "\n",
      "0 -  Negative (No Pathology)       1.00      1.00      1.00      5322\n",
      "    1 - Positive (Pathology)       1.00      1.00      1.00      4951\n",
      "\n",
      "                    accuracy                           1.00     10273\n",
      "                   macro avg       1.00      1.00      1.00     10273\n",
      "                weighted avg       1.00      1.00      1.00     10273\n",
      "\n",
      "\n",
      "--------------- Visual Evaluation ---------------\n"
     ]
    },
    {
     "data": {
      "image/png": "[encoded data removed]",
      "text/plain": [
       "<Figure size 1008x360 with 2 Axes>"
      ]
     },
     "metadata": {
      "needs_background": "light"
     },
     "output_type": "display_data"
    }
   ],
   "source": [
    "# Build Model with Best Hyperparameters\n",
    "best_model = tuner.hypermodel.build(best_hps)\n",
    "\n",
    "# Train Model\n",
    "history = best_model.fit(X_train, y_train, epochs=20, validation_split=0.3, callbacks=[callback])\n",
    "\n",
    "# Evaluate Model on Test Data\n",
    "pred = best_model.predict(X_test)\n",
    "y_pred = np.argmax(pred, axis=1)\n",
    "\n",
    "results = evaluate(y_test, y_pred, X_train, y_train)\n",
    "model_results['MobileNetV3 Large'] = results"
   ]
  },
  {
   "cell_type": "code",
   "execution_count": 13,
   "id": "c2483142",
   "metadata": {},
   "outputs": [
    {
     "name": "stdout",
     "output_type": "stream",
     "text": [
      "\n",
      "--------------- Evaluation ---------------\n",
      "Accuracy: 0.998\n",
      "Precision: 0.999\n",
      "Recall: 0.997\n",
      "F1 Score: 0.998\n",
      "ROC AUC: 0.998\n",
      "\n",
      "Classification Report: \n",
      "                              precision    recall  f1-score   support\n",
      "\n",
      "0 -  Negative (No Pathology)       1.00      1.00      1.00      5322\n",
      "    1 - Positive (Pathology)       1.00      1.00      1.00      4951\n",
      "\n",
      "                    accuracy                           1.00     10273\n",
      "                   macro avg       1.00      1.00      1.00     10273\n",
      "                weighted avg       1.00      1.00      1.00     10273\n",
      "\n",
      "\n",
      "--------------- Visual Evaluation ---------------\n"
     ]
    },
    {
     "data": {
      "image/png": "[encoded data removed]",
      "text/plain": [
       "<Figure size 1008x360 with 2 Axes>"
      ]
     },
     "metadata": {
      "needs_background": "light"
     },
     "output_type": "display_data"
    }
   ],
   "source": [
    "results = evaluate(y_test, y_pred, X_train, y_train)\n",
    "model_results['MobileNetV3 Large'] = results"
   ]
  },
  {
   "cell_type": "markdown",
   "id": "20e04c42",
   "metadata": {},
   "source": [
    "##  NASNetMobile"
   ]
  },
  {
   "cell_type": "code",
   "execution_count": null,
   "id": "76b6abd7",
   "metadata": {},
   "outputs": [],
   "source": [
    "# Define Tuner\n",
    "tuner = kt.RandomSearch(\n",
    "    lambda hp: build_model(hp, NASNetMobile),\n",
    "    objective='val_accuracy',\n",
    "    max_trials=5,  # Number of different hyperparameter combinations to try\n",
    "    executions_per_trial=1,  # Number of times each model is trained\n",
    "    directory='tuning_results',  \n",
    "    project_name='hyperparameter_tuning'\n",
    ")\n",
    "\n",
    "# Stop early if no improvement in 3 epochs\n",
    "callback = EarlyStopping(monitor='val_loss', patience=3, restore_best_weights=True)\n",
    "\n",
    "# Start Hyperparameter Search\n",
    "tuner.search(X_train, y_train, epochs=10, validation_split=0.3, callbacks=[callback])\n",
    "\n",
    "# Get Best Hyperparameters\n",
    "best_hps = tuner.get_best_hyperparameters(num_trials=1)[0]\n",
    "\n",
    "print(f\"Best Hyperparameters: units={best_hps.get('units')}, dropout={best_hps.get('dropout')}, \"\n",
    "      f\"optimizer={best_hps.get('optimizer')}, learning rate={best_hps.get('lr')}\")"
   ]
  },
  {
   "cell_type": "code",
   "execution_count": null,
   "id": "e1ceb18a",
   "metadata": {},
   "outputs": [],
   "source": [
    "# Build Model with Best Hyperparameters\n",
    "best_model = tuner.hypermodel.build(best_hps)\n",
    "\n",
    "# Train Model\n",
    "history = best_model.fit(X_train, y_train, epochs=20, validation_split=0.3, callbacks=[callback])\n",
    "\n",
    "# Evaluate Model on Test Data\n",
    "pred = best_model.predict(X_test)\n",
    "y_pred = np.argmax(pred, axis=1)\n",
    "\n",
    "results = evaluate(y_test, y_pred, X_train, y_train)\n",
    "model_results['NASNetMobile'] = results"
   ]
  },
  {
   "cell_type": "markdown",
   "id": "449b2209",
   "metadata": {},
   "source": [
    "##  EfficientNetV2B0"
   ]
  },
  {
   "cell_type": "code",
   "execution_count": 14,
   "id": "612087f0",
   "metadata": {},
   "outputs": [
    {
     "name": "stdout",
     "output_type": "stream",
     "text": [
      "Reloading Tuner from tuning_results\\hyperparameter_tuning\\tuner0.json\n",
      "Best Hyperparameters: units=64, dropout=0.2, optimizer=adam, learning rate=0.001\n"
     ]
    }
   ],
   "source": [
    "# Define Tuner\n",
    "tuner = kt.RandomSearch(\n",
    "    lambda hp: build_model(hp, EfficientNetV2B0),\n",
    "    objective='val_accuracy',\n",
    "    max_trials=5,  # Number of different hyperparameter combinations to try\n",
    "    executions_per_trial=1,  # Number of times each model is trained\n",
    "    directory='tuning_results',  \n",
    "    project_name='hyperparameter_tuning'\n",
    ")\n",
    "\n",
    "# Stop early if no improvement in 3 epochs\n",
    "callback = EarlyStopping(monitor='val_loss', patience=3, restore_best_weights=True)\n",
    "\n",
    "# Start Hyperparameter Search\n",
    "tuner.search(X_train, y_train, epochs=10, validation_split=0.3, callbacks=[callback])\n",
    "\n",
    "# Get Best Hyperparameters\n",
    "best_hps = tuner.get_best_hyperparameters(num_trials=1)[0]\n",
    "\n",
    "print(f\"Best Hyperparameters: units={best_hps.get('units')}, dropout={best_hps.get('dropout')}, \"\n",
    "      f\"optimizer={best_hps.get('optimizer')}, learning rate={best_hps.get('lr')}\")"
   ]
  },
  {
   "cell_type": "code",
   "execution_count": 15,
   "id": "2e129d8c",
   "metadata": {},
   "outputs": [
    {
     "name": "stdout",
     "output_type": "stream",
     "text": [
      "Epoch 1/20\n",
      "899/899 [==============================] - 636s 703ms/step - loss: 0.1092 - accuracy: 0.9585 - val_loss: 0.0368 - val_accuracy: 0.9869\n",
      "Epoch 2/20\n",
      "899/899 [==============================] - 615s 684ms/step - loss: 0.0381 - accuracy: 0.9869 - val_loss: 0.0239 - val_accuracy: 0.9912\n",
      "Epoch 3/20\n",
      "899/899 [==============================] - 615s 684ms/step - loss: 0.0257 - accuracy: 0.9912 - val_loss: 0.0098 - val_accuracy: 0.9968\n",
      "Epoch 4/20\n",
      "899/899 [==============================] - 617s 687ms/step - loss: 0.0199 - accuracy: 0.9935 - val_loss: 0.0158 - val_accuracy: 0.9946\n",
      "Epoch 5/20\n",
      "899/899 [==============================] - 611s 679ms/step - loss: 0.0186 - accuracy: 0.9934 - val_loss: 0.0130 - val_accuracy: 0.9959\n",
      "Epoch 6/20\n",
      "899/899 [==============================] - 610s 679ms/step - loss: 0.0153 - accuracy: 0.9950 - val_loss: 0.0054 - val_accuracy: 0.9979\n",
      "Epoch 7/20\n",
      "899/899 [==============================] - 611s 680ms/step - loss: 0.0112 - accuracy: 0.9960 - val_loss: 0.0098 - val_accuracy: 0.9957\n",
      "Epoch 8/20\n",
      "899/899 [==============================] - 613s 682ms/step - loss: 0.0135 - accuracy: 0.9952 - val_loss: 0.0065 - val_accuracy: 0.9974\n",
      "Epoch 9/20\n",
      "899/899 [==============================] - 605s 673ms/step - loss: 0.0105 - accuracy: 0.9959 - val_loss: 0.0048 - val_accuracy: 0.9985\n",
      "Epoch 10/20\n",
      "899/899 [==============================] - 615s 685ms/step - loss: 0.0132 - accuracy: 0.9957 - val_loss: 0.0048 - val_accuracy: 0.9981\n",
      "Epoch 11/20\n",
      "899/899 [==============================] - 618s 687ms/step - loss: 0.0112 - accuracy: 0.9956 - val_loss: 0.0066 - val_accuracy: 0.9983\n",
      "Epoch 12/20\n",
      "899/899 [==============================] - 614s 684ms/step - loss: 0.0088 - accuracy: 0.9970 - val_loss: 0.0063 - val_accuracy: 0.9975\n",
      "322/322 [==============================] - 160s 490ms/step\n",
      "\n",
      "--------------- Evaluation ---------------\n",
      "Accuracy: 0.998\n",
      "Precision: 0.997\n",
      "Recall: 0.998\n",
      "F1 Score: 0.998\n",
      "ROC AUC: 0.998\n",
      "\n",
      "Classification Report: \n",
      "                              precision    recall  f1-score   support\n",
      "\n",
      "0 -  Negative (No Pathology)       1.00      1.00      1.00      5322\n",
      "    1 - Positive (Pathology)       1.00      1.00      1.00      4951\n",
      "\n",
      "                    accuracy                           1.00     10273\n",
      "                   macro avg       1.00      1.00      1.00     10273\n",
      "                weighted avg       1.00      1.00      1.00     10273\n",
      "\n",
      "\n",
      "--------------- Visual Evaluation ---------------\n"
     ]
    },
    {
     "data": {
      "image/png": "[encoded data removed]",
      "text/plain": [
       "<Figure size 1008x360 with 2 Axes>"
      ]
     },
     "metadata": {
      "needs_background": "light"
     },
     "output_type": "display_data"
    }
   ],
   "source": [
    "# Build Model with Best Hyperparameters\n",
    "best_model = tuner.hypermodel.build(best_hps)\n",
    "\n",
    "# Train Model\n",
    "history = best_model.fit(X_train, y_train, epochs=20, validation_split=0.3, callbacks=[callback])\n",
    "\n",
    "# Evaluate Model on Test Data\n",
    "pred = best_model.predict(X_test)\n",
    "y_pred = np.argmax(pred, axis=1)\n",
    "\n",
    "results = evaluate(y_test, y_pred, X_train, y_train)\n",
    "model_results['EfficientNetV2B0'] = results"
   ]
  },
  {
   "cell_type": "markdown",
   "id": "ba37d5f3",
   "metadata": {},
   "source": [
    "## DenseNet121"
   ]
  },
  {
   "cell_type": "code",
   "execution_count": 16,
   "id": "637e8239",
   "metadata": {},
   "outputs": [
    {
     "name": "stdout",
     "output_type": "stream",
     "text": [
      "Reloading Tuner from tuning_results\\hyperparameter_tuning\\tuner0.json\n",
      "Best Hyperparameters: units=64, dropout=0.2, optimizer=adam, learning rate=0.001\n"
     ]
    }
   ],
   "source": [
    "# Define Tuner\n",
    "tuner = kt.RandomSearch(\n",
    "    lambda hp: build_model(hp, DenseNet121),\n",
    "    objective='val_accuracy',\n",
    "    max_trials=5,  # Number of different hyperparameter combinations to try\n",
    "    executions_per_trial=1,  # Number of times each model is trained\n",
    "    directory='tuning_results',  \n",
    "    project_name='hyperparameter_tuning'\n",
    ")\n",
    "\n",
    "# Stop early if no improvement in 3 epochs\n",
    "callback = EarlyStopping(monitor='val_loss', patience=3, restore_best_weights=True)\n",
    "\n",
    "# Start Hyperparameter Search\n",
    "tuner.search(X_train, y_train, epochs=10, validation_split=0.3, callbacks=[callback])\n",
    "\n",
    "# Get Best Hyperparameters\n",
    "best_hps = tuner.get_best_hyperparameters(num_trials=1)[0]\n",
    "\n",
    "print(f\"Best Hyperparameters: units={best_hps.get('units')}, dropout={best_hps.get('dropout')}, \"\n",
    "      f\"optimizer={best_hps.get('optimizer')}, learning rate={best_hps.get('lr')}\")"
   ]
  },
  {
   "cell_type": "code",
   "execution_count": 17,
   "id": "dc3fbb40",
   "metadata": {},
   "outputs": [
    {
     "name": "stdout",
     "output_type": "stream",
     "text": [
      "Epoch 1/20\n",
      "899/899 [==============================] - 1771s 2s/step - loss: 0.4512 - accuracy: 0.7923 - val_loss: 0.3060 - val_accuracy: 0.8795\n",
      "Epoch 2/20\n",
      "899/899 [==============================] - 1770s 2s/step - loss: 0.2858 - accuracy: 0.8773 - val_loss: 0.2171 - val_accuracy: 0.9120\n",
      "Epoch 3/20\n",
      "899/899 [==============================] - 1742s 2s/step - loss: 0.2390 - accuracy: 0.9003 - val_loss: 0.1992 - val_accuracy: 0.9172\n",
      "Epoch 4/20\n",
      "899/899 [==============================] - 1752s 2s/step - loss: 0.2067 - accuracy: 0.9146 - val_loss: 0.1728 - val_accuracy: 0.9311\n",
      "Epoch 5/20\n",
      "899/899 [==============================] - 1752s 2s/step - loss: 0.1837 - accuracy: 0.9235 - val_loss: 0.1481 - val_accuracy: 0.9409\n",
      "Epoch 6/20\n",
      "899/899 [==============================] - 1754s 2s/step - loss: 0.1692 - accuracy: 0.9302 - val_loss: 0.1350 - val_accuracy: 0.9509\n",
      "Epoch 7/20\n",
      "899/899 [==============================] - 1750s 2s/step - loss: 0.1557 - accuracy: 0.9364 - val_loss: 0.1236 - val_accuracy: 0.9504\n",
      "Epoch 8/20\n",
      "899/899 [==============================] - 1754s 2s/step - loss: 0.1468 - accuracy: 0.9390 - val_loss: 0.1378 - val_accuracy: 0.9446\n",
      "Epoch 9/20\n",
      "899/899 [==============================] - 1755s 2s/step - loss: 0.1397 - accuracy: 0.9440 - val_loss: 0.1376 - val_accuracy: 0.9452\n",
      "Epoch 10/20\n",
      "899/899 [==============================] - 1759s 2s/step - loss: 0.1382 - accuracy: 0.9405 - val_loss: 0.1267 - val_accuracy: 0.9473\n",
      "322/322 [==============================] - 446s 1s/step\n",
      "\n",
      "--------------- Evaluation ---------------\n",
      "Accuracy: 0.952\n",
      "Precision: 0.967\n",
      "Recall: 0.933\n",
      "F1 Score: 0.95\n",
      "ROC AUC: 0.952\n",
      "\n",
      "Classification Report: \n",
      "                              precision    recall  f1-score   support\n",
      "\n",
      "0 -  Negative (No Pathology)       0.94      0.97      0.95      5322\n",
      "    1 - Positive (Pathology)       0.97      0.93      0.95      4951\n",
      "\n",
      "                    accuracy                           0.95     10273\n",
      "                   macro avg       0.95      0.95      0.95     10273\n",
      "                weighted avg       0.95      0.95      0.95     10273\n",
      "\n",
      "\n",
      "--------------- Visual Evaluation ---------------\n"
     ]
    },
    {
     "data": {
      "image/png": "[encoded data removed]",
      "text/plain": [
       "<Figure size 1008x360 with 2 Axes>"
      ]
     },
     "metadata": {
      "needs_background": "light"
     },
     "output_type": "display_data"
    }
   ],
   "source": [
    "# Build Model with Best Hyperparameters\n",
    "best_model = tuner.hypermodel.build(best_hps)\n",
    "\n",
    "# Train Model\n",
    "history = best_model.fit(X_train, y_train, epochs=20, validation_split=0.3, callbacks=[callback])\n",
    "\n",
    "# Evaluate Model on Test Data\n",
    "pred = best_model.predict(X_test)\n",
    "y_pred = np.argmax(pred, axis=1)\n",
    "\n",
    "results = evaluate(y_test, y_pred, X_train, y_train)\n",
    "model_results['DenseNet121'] = results"
   ]
  },
  {
   "cell_type": "markdown",
   "id": "52aff9ce",
   "metadata": {},
   "source": [
    "##  ResNet50"
   ]
  },
  {
   "cell_type": "code",
   "execution_count": null,
   "id": "fef312c7",
   "metadata": {},
   "outputs": [],
   "source": [
    "# Define Tuner\n",
    "tuner = kt.RandomSearch(\n",
    "    lambda hp: build_model(hp, ResNet50),\n",
    "    objective='val_accuracy',\n",
    "    max_trials=5,  # Number of different hyperparameter combinations to try\n",
    "    executions_per_trial=1,  # Number of times each model is trained\n",
    "    directory='tuning_results',  \n",
    "    project_name='hyperparameter_tuning'\n",
    ")\n",
    "\n",
    "# Stop early if no improvement in 3 epochs\n",
    "callback = EarlyStopping(monitor='val_loss', patience=3, restore_best_weights=True)\n",
    "\n",
    "# Start Hyperparameter Search\n",
    "tuner.search(X_train, y_train, epochs=10, validation_split=0.3, callbacks=[callback])\n",
    "\n",
    "# Get Best Hyperparameters\n",
    "best_hps = tuner.get_best_hyperparameters(num_trials=1)[0]\n",
    "\n",
    "print(f\"Best Hyperparameters: units={best_hps.get('units')}, dropout={best_hps.get('dropout')}, \"\n",
    "      f\"optimizer={best_hps.get('optimizer')}, learning rate={best_hps.get('lr')}\")"
   ]
  },
  {
   "cell_type": "code",
   "execution_count": null,
   "id": "d07b3534",
   "metadata": {},
   "outputs": [],
   "source": [
    "# Build Model with Best Hyperparameters\n",
    "best_model = tuner.hypermodel.build(best_hps)\n",
    "\n",
    "# Train Model\n",
    "history = best_model.fit(X_train, y_train, epochs=20, validation_split=0.3, callbacks=[callback])\n",
    "\n",
    "# Evaluate Model on Test Data\n",
    "pred = best_model.predict(X_test)\n",
    "y_pred = np.argmax(pred, axis=1)\n",
    "\n",
    "results = evaluate(y_test, y_pred, X_train, y_train)\n",
    "model_results['ResNet50'] = results"
   ]
  },
  {
   "cell_type": "markdown",
   "id": "211e0132",
   "metadata": {},
   "source": [
    "## ResNet50V2 "
   ]
  },
  {
   "cell_type": "code",
   "execution_count": 18,
   "id": "4b7e8420",
   "metadata": {},
   "outputs": [
    {
     "name": "stdout",
     "output_type": "stream",
     "text": [
      "Reloading Tuner from tuning_results\\hyperparameter_tuning\\tuner0.json\n",
      "Best Hyperparameters: units=64, dropout=0.2, optimizer=adam, learning rate=0.001\n"
     ]
    }
   ],
   "source": [
    "# Define Tuner\n",
    "tuner = kt.RandomSearch(\n",
    "    lambda hp: build_model(hp, ResNet50V2),\n",
    "    objective='val_accuracy',\n",
    "    max_trials=5,  # Number of different hyperparameter combinations to try\n",
    "    executions_per_trial=1,  # Number of times each model is trained\n",
    "    directory='tuning_results',  \n",
    "    project_name='hyperparameter_tuning'\n",
    ")\n",
    "\n",
    "# Stop early if no improvement in 3 epochs\n",
    "callback = EarlyStopping(monitor='val_loss', patience=3, restore_best_weights=True)\n",
    "\n",
    "# Start Hyperparameter Search\n",
    "tuner.search(X_train, y_train, epochs=10, validation_split=0.3, callbacks=[callback])\n",
    "\n",
    "# Get Best Hyperparameters\n",
    "best_hps = tuner.get_best_hyperparameters(num_trials=1)[0]\n",
    "\n",
    "print(f\"Best Hyperparameters: units={best_hps.get('units')}, dropout={best_hps.get('dropout')}, \"\n",
    "      f\"optimizer={best_hps.get('optimizer')}, learning rate={best_hps.get('lr')}\")"
   ]
  },
  {
   "cell_type": "code",
   "execution_count": 19,
   "id": "771f3779",
   "metadata": {},
   "outputs": [
    {
     "name": "stdout",
     "output_type": "stream",
     "text": [
      "Epoch 1/20\n",
      "899/899 [==============================] - 1246s 1s/step - loss: 1.5486 - accuracy: 0.6502 - val_loss: 0.5142 - val_accuracy: 0.7364\n",
      "Epoch 2/20\n",
      "899/899 [==============================] - 1217s 1s/step - loss: 0.5790 - accuracy: 0.6689 - val_loss: 0.5048 - val_accuracy: 0.7854\n",
      "Epoch 3/20\n",
      "899/899 [==============================] - 1214s 1s/step - loss: 0.5474 - accuracy: 0.7216 - val_loss: 0.4945 - val_accuracy: 0.8069\n",
      "Epoch 4/20\n",
      "899/899 [==============================] - 1214s 1s/step - loss: 0.5409 - accuracy: 0.7279 - val_loss: 0.4371 - val_accuracy: 0.8271\n",
      "Epoch 5/20\n",
      "899/899 [==============================] - 1211s 1s/step - loss: 0.5220 - accuracy: 0.7434 - val_loss: 0.4336 - val_accuracy: 0.8345\n",
      "Epoch 6/20\n",
      "899/899 [==============================] - 1213s 1s/step - loss: 0.5077 - accuracy: 0.7530 - val_loss: 0.4162 - val_accuracy: 0.8391\n",
      "Epoch 7/20\n",
      "899/899 [==============================] - 1210s 1s/step - loss: 0.5054 - accuracy: 0.7557 - val_loss: 0.4210 - val_accuracy: 0.8400\n",
      "Epoch 8/20\n",
      "899/899 [==============================] - 1207s 1s/step - loss: 0.4956 - accuracy: 0.7626 - val_loss: 0.4111 - val_accuracy: 0.8437\n",
      "Epoch 9/20\n",
      "899/899 [==============================] - 1217s 1s/step - loss: 0.5164 - accuracy: 0.7433 - val_loss: 0.4050 - val_accuracy: 0.8507\n",
      "Epoch 10/20\n",
      "899/899 [==============================] - 1205s 1s/step - loss: 0.4902 - accuracy: 0.7672 - val_loss: 0.4318 - val_accuracy: 0.8300\n",
      "Epoch 11/20\n",
      "899/899 [==============================] - 1211s 1s/step - loss: 0.4959 - accuracy: 0.7626 - val_loss: 0.4059 - val_accuracy: 0.8531\n",
      "Epoch 12/20\n",
      "899/899 [==============================] - 1209s 1s/step - loss: 0.4833 - accuracy: 0.7713 - val_loss: 0.4502 - val_accuracy: 0.7973\n",
      "322/322 [==============================] - 309s 953ms/step\n",
      "\n",
      "--------------- Evaluation ---------------\n",
      "Accuracy: 0.854\n",
      "Precision: 0.835\n",
      "Recall: 0.869\n",
      "F1 Score: 0.852\n",
      "ROC AUC: 0.855\n",
      "\n",
      "Classification Report: \n",
      "                              precision    recall  f1-score   support\n",
      "\n",
      "0 -  Negative (No Pathology)       0.87      0.84      0.86      5322\n",
      "    1 - Positive (Pathology)       0.84      0.87      0.85      4951\n",
      "\n",
      "                    accuracy                           0.85     10273\n",
      "                   macro avg       0.85      0.85      0.85     10273\n",
      "                weighted avg       0.86      0.85      0.85     10273\n",
      "\n",
      "\n",
      "--------------- Visual Evaluation ---------------\n"
     ]
    },
    {
     "data": {
      "image/png": "[encoded data removed]",
      "text/plain": [
       "<Figure size 1008x360 with 2 Axes>"
      ]
     },
     "metadata": {
      "needs_background": "light"
     },
     "output_type": "display_data"
    }
   ],
   "source": [
    "# Build Model with Best Hyperparameters\n",
    "best_model = tuner.hypermodel.build(best_hps)\n",
    "\n",
    "# Train Model\n",
    "history = best_model.fit(X_train, y_train, epochs=20, validation_split=0.3, callbacks=[callback])\n",
    "\n",
    "# Evaluate Model on Test Data\n",
    "pred = best_model.predict(X_test)\n",
    "y_pred = np.argmax(pred, axis=1)\n",
    "\n",
    "results = evaluate(y_test, y_pred, X_train, y_train)\n",
    "model_results['ResNet50V2'] = results"
   ]
  },
  {
   "cell_type": "markdown",
   "id": "f818842d",
   "metadata": {},
   "source": [
    "## InceptionV3"
   ]
  },
  {
   "cell_type": "code",
   "execution_count": 20,
   "id": "929e69d5",
   "metadata": {},
   "outputs": [
    {
     "name": "stdout",
     "output_type": "stream",
     "text": [
      "Reloading Tuner from tuning_results\\hyperparameter_tuning\\tuner0.json\n",
      "Best Hyperparameters: units=64, dropout=0.2, optimizer=adam, learning rate=0.001\n"
     ]
    }
   ],
   "source": [
    "# Define Tuner\n",
    "tuner = kt.RandomSearch(\n",
    "    lambda hp: build_model(hp, InceptionV3),\n",
    "    objective='val_accuracy',\n",
    "    max_trials=5,  # Number of different hyperparameter combinations to try\n",
    "    executions_per_trial=1,  # Number of times each model is trained\n",
    "    directory='tuning_results',  \n",
    "    project_name='hyperparameter_tuning'\n",
    ")\n",
    "\n",
    "# Stop early if no improvement in 3 epochs\n",
    "callback = EarlyStopping(monitor='val_loss', patience=3, restore_best_weights=True)\n",
    "\n",
    "# Start Hyperparameter Search\n",
    "tuner.search(X_train, y_train, epochs=10, validation_split=0.3, callbacks=[callback])\n",
    "\n",
    "# Get Best Hyperparameters\n",
    "best_hps = tuner.get_best_hyperparameters(num_trials=1)[0]\n",
    "\n",
    "print(f\"Best Hyperparameters: units={best_hps.get('units')}, dropout={best_hps.get('dropout')}, \"\n",
    "      f\"optimizer={best_hps.get('optimizer')}, learning rate={best_hps.get('lr')}\")"
   ]
  },
  {
   "cell_type": "code",
   "execution_count": 21,
   "id": "0056c606",
   "metadata": {},
   "outputs": [
    {
     "name": "stdout",
     "output_type": "stream",
     "text": [
      "Epoch 1/20\n",
      "899/899 [==============================] - 705s 781ms/step - loss: 0.7396 - accuracy: 0.6536 - val_loss: 0.5280 - val_accuracy: 0.7584\n",
      "Epoch 2/20\n",
      "899/899 [==============================] - 695s 773ms/step - loss: 0.5322 - accuracy: 0.6980 - val_loss: 0.5198 - val_accuracy: 0.7452\n",
      "Epoch 3/20\n",
      "899/899 [==============================] - 701s 780ms/step - loss: 0.5058 - accuracy: 0.7178 - val_loss: 0.5944 - val_accuracy: 0.5850\n",
      "Epoch 4/20\n",
      "899/899 [==============================] - 699s 777ms/step - loss: 0.4870 - accuracy: 0.7290 - val_loss: 0.4266 - val_accuracy: 0.8161\n",
      "Epoch 5/20\n",
      "899/899 [==============================] - 696s 774ms/step - loss: 0.4770 - accuracy: 0.7376 - val_loss: 0.4079 - val_accuracy: 0.8188\n",
      "Epoch 6/20\n",
      "899/899 [==============================] - 697s 776ms/step - loss: 0.4690 - accuracy: 0.7403 - val_loss: 0.3968 - val_accuracy: 0.8226\n",
      "Epoch 7/20\n",
      "899/899 [==============================] - 700s 779ms/step - loss: 0.4678 - accuracy: 0.7361 - val_loss: 0.4052 - val_accuracy: 0.8092\n",
      "Epoch 8/20\n",
      "899/899 [==============================] - 693s 771ms/step - loss: 0.4530 - accuracy: 0.7446 - val_loss: 0.4201 - val_accuracy: 0.7904\n",
      "Epoch 9/20\n",
      "899/899 [==============================] - 694s 773ms/step - loss: 0.4561 - accuracy: 0.7382 - val_loss: 0.3943 - val_accuracy: 0.8066\n",
      "Epoch 10/20\n",
      "899/899 [==============================] - 693s 772ms/step - loss: 0.4455 - accuracy: 0.7435 - val_loss: 0.4022 - val_accuracy: 0.8075\n",
      "Epoch 11/20\n",
      "899/899 [==============================] - 697s 776ms/step - loss: 0.4480 - accuracy: 0.7432 - val_loss: 0.4204 - val_accuracy: 0.7724\n",
      "Epoch 12/20\n",
      "899/899 [==============================] - 692s 770ms/step - loss: 0.4376 - accuracy: 0.7533 - val_loss: 0.3744 - val_accuracy: 0.8208\n",
      "Epoch 13/20\n",
      "899/899 [==============================] - 771s 858ms/step - loss: 0.4390 - accuracy: 0.7481 - val_loss: 0.3734 - val_accuracy: 0.8055\n",
      "Epoch 14/20\n",
      "899/899 [==============================] - 824s 917ms/step - loss: 0.4341 - accuracy: 0.7527 - val_loss: 0.3642 - val_accuracy: 0.8199\n",
      "Epoch 15/20\n",
      "899/899 [==============================] - 766s 853ms/step - loss: 0.4261 - accuracy: 0.7550 - val_loss: 0.3663 - val_accuracy: 0.8250\n",
      "Epoch 16/20\n",
      "899/899 [==============================] - 774s 862ms/step - loss: 0.4303 - accuracy: 0.7577 - val_loss: 0.4149 - val_accuracy: 0.7940\n",
      "Epoch 17/20\n",
      "899/899 [==============================] - 761s 847ms/step - loss: 0.4209 - accuracy: 0.7598 - val_loss: 0.3743 - val_accuracy: 0.8139\n",
      "322/322 [==============================] - 210s 646ms/step\n",
      "\n",
      "--------------- Evaluation ---------------\n",
      "Accuracy: 0.832\n",
      "Precision: 0.864\n",
      "Recall: 0.774\n",
      "F1 Score: 0.816\n",
      "ROC AUC: 0.83\n",
      "\n",
      "Classification Report: \n",
      "                              precision    recall  f1-score   support\n",
      "\n",
      "0 -  Negative (No Pathology)       0.81      0.89      0.85      5322\n",
      "    1 - Positive (Pathology)       0.86      0.77      0.82      4951\n",
      "\n",
      "                    accuracy                           0.83     10273\n",
      "                   macro avg       0.84      0.83      0.83     10273\n",
      "                weighted avg       0.84      0.83      0.83     10273\n",
      "\n",
      "\n",
      "--------------- Visual Evaluation ---------------\n"
     ]
    },
    {
     "data": {
      "image/png": "[encoded data removed]",
      "text/plain": [
       "<Figure size 1008x360 with 2 Axes>"
      ]
     },
     "metadata": {
      "needs_background": "light"
     },
     "output_type": "display_data"
    }
   ],
   "source": [
    "# Build Model with Best Hyperparameters\n",
    "best_model = tuner.hypermodel.build(best_hps)\n",
    "\n",
    "# Train Model\n",
    "history = best_model.fit(X_train, y_train, epochs=20, validation_split=0.3, callbacks=[callback])\n",
    "\n",
    "# Evaluate Model on Test Data\n",
    "pred = best_model.predict(X_test)\n",
    "y_pred = np.argmax(pred, axis=1)\n",
    "\n",
    "results = evaluate(y_test, y_pred, X_train, y_train)\n",
    "model_results['InceptionV3'] = results"
   ]
  },
  {
   "cell_type": "markdown",
   "id": "5f97be4b",
   "metadata": {},
   "source": [
    "## Xception "
   ]
  },
  {
   "cell_type": "code",
   "execution_count": 22,
   "id": "41a11b86",
   "metadata": {},
   "outputs": [
    {
     "name": "stdout",
     "output_type": "stream",
     "text": [
      "Reloading Tuner from tuning_results\\hyperparameter_tuning\\tuner0.json\n",
      "Best Hyperparameters: units=64, dropout=0.2, optimizer=adam, learning rate=0.001\n"
     ]
    }
   ],
   "source": [
    "# Define Tuner\n",
    "tuner = kt.RandomSearch(\n",
    "    lambda hp: build_model(hp, Xception),\n",
    "    objective='val_accuracy',\n",
    "    max_trials=5,  # Number of different hyperparameter combinations to try\n",
    "    executions_per_trial=1,  # Number of times each model is trained\n",
    "    directory='tuning_results',  \n",
    "    project_name='hyperparameter_tuning'\n",
    ")\n",
    "\n",
    "# Stop early if no improvement in 3 epochs\n",
    "callback = EarlyStopping(monitor='val_loss', patience=3, restore_best_weights=True)\n",
    "\n",
    "# Start Hyperparameter Search\n",
    "tuner.search(X_train, y_train, epochs=10, validation_split=0.3, callbacks=[callback])\n",
    "\n",
    "# Get Best Hyperparameters\n",
    "best_hps = tuner.get_best_hyperparameters(num_trials=1)[0]\n",
    "\n",
    "print(f\"Best Hyperparameters: units={best_hps.get('units')}, dropout={best_hps.get('dropout')}, \"\n",
    "      f\"optimizer={best_hps.get('optimizer')}, learning rate={best_hps.get('lr')}\")"
   ]
  },
  {
   "cell_type": "code",
   "execution_count": 23,
   "id": "8353d2f8",
   "metadata": {},
   "outputs": [
    {
     "name": "stdout",
     "output_type": "stream",
     "text": [
      "Epoch 1/20\n",
      "899/899 [==============================] - 1435s 2s/step - loss: 0.6756 - accuracy: 0.7391 - val_loss: 0.4407 - val_accuracy: 0.7909\n",
      "Epoch 2/20\n",
      "899/899 [==============================] - 1401s 2s/step - loss: 0.4308 - accuracy: 0.7986 - val_loss: 0.3950 - val_accuracy: 0.8237\n",
      "Epoch 3/20\n",
      "899/899 [==============================] - 1413s 2s/step - loss: 0.4025 - accuracy: 0.8132 - val_loss: 0.3454 - val_accuracy: 0.8490\n",
      "Epoch 4/20\n",
      "899/899 [==============================] - 1419s 2s/step - loss: 0.3792 - accuracy: 0.8202 - val_loss: 0.4104 - val_accuracy: 0.7968\n",
      "Epoch 5/20\n",
      "899/899 [==============================] - 1433s 2s/step - loss: 0.3678 - accuracy: 0.8331 - val_loss: 0.3543 - val_accuracy: 0.8344\n",
      "Epoch 6/20\n",
      "899/899 [==============================] - 1427s 2s/step - loss: 0.3555 - accuracy: 0.8360 - val_loss: 0.3257 - val_accuracy: 0.8615\n",
      "Epoch 7/20\n",
      "899/899 [==============================] - 1420s 2s/step - loss: 0.3324 - accuracy: 0.8473 - val_loss: 0.3254 - val_accuracy: 0.8654\n",
      "Epoch 8/20\n",
      "899/899 [==============================] - 1417s 2s/step - loss: 0.3277 - accuracy: 0.8501 - val_loss: 0.3011 - val_accuracy: 0.8718\n",
      "Epoch 9/20\n",
      "899/899 [==============================] - 1385s 2s/step - loss: 0.3231 - accuracy: 0.8501 - val_loss: 0.3103 - val_accuracy: 0.8623\n",
      "Epoch 10/20\n",
      "899/899 [==============================] - 1547s 2s/step - loss: 0.3075 - accuracy: 0.8629 - val_loss: 0.3035 - val_accuracy: 0.8753\n",
      "Epoch 11/20\n",
      "899/899 [==============================] - 1600s 2s/step - loss: 0.3089 - accuracy: 0.8604 - val_loss: 0.2752 - val_accuracy: 0.8858\n",
      "Epoch 12/20\n",
      "899/899 [==============================] - 1532s 2s/step - loss: 0.2946 - accuracy: 0.8668 - val_loss: 0.2973 - val_accuracy: 0.8628\n",
      "Epoch 13/20\n",
      "899/899 [==============================] - 1964s 2s/step - loss: 0.3054 - accuracy: 0.8580 - val_loss: 0.2773 - val_accuracy: 0.8825\n",
      "Epoch 14/20\n",
      "899/899 [==============================] - 2060s 2s/step - loss: 0.2801 - accuracy: 0.8755 - val_loss: 0.2673 - val_accuracy: 0.8890\n",
      "Epoch 15/20\n",
      "899/899 [==============================] - 1513s 2s/step - loss: 0.2791 - accuracy: 0.8739 - val_loss: 0.2810 - val_accuracy: 0.8860\n",
      "Epoch 16/20\n",
      "899/899 [==============================] - 1565s 2s/step - loss: 0.2778 - accuracy: 0.8739 - val_loss: 0.2647 - val_accuracy: 0.8890\n",
      "Epoch 17/20\n",
      "899/899 [==============================] - 1390s 2s/step - loss: 0.2781 - accuracy: 0.8720 - val_loss: 0.2706 - val_accuracy: 0.8847\n",
      "Epoch 18/20\n",
      "899/899 [==============================] - 1343s 1s/step - loss: 0.2740 - accuracy: 0.8736 - val_loss: 0.2615 - val_accuracy: 0.8856\n",
      "Epoch 19/20\n",
      "899/899 [==============================] - 1358s 2s/step - loss: 0.2685 - accuracy: 0.8789 - val_loss: 0.2560 - val_accuracy: 0.8962\n",
      "Epoch 20/20\n",
      "899/899 [==============================] - 1442s 2s/step - loss: 0.2617 - accuracy: 0.8800 - val_loss: 0.3127 - val_accuracy: 0.8823\n",
      "322/322 [==============================] - 340s 1s/step\n",
      "\n",
      "--------------- Evaluation ---------------\n",
      "Accuracy: 0.884\n",
      "Precision: 0.953\n",
      "Recall: 0.799\n",
      "F1 Score: 0.869\n",
      "ROC AUC: 0.881\n",
      "\n",
      "Classification Report: \n",
      "                              precision    recall  f1-score   support\n",
      "\n",
      "0 -  Negative (No Pathology)       0.84      0.96      0.90      5322\n",
      "    1 - Positive (Pathology)       0.95      0.80      0.87      4951\n",
      "\n",
      "                    accuracy                           0.88     10273\n",
      "                   macro avg       0.90      0.88      0.88     10273\n",
      "                weighted avg       0.89      0.88      0.88     10273\n",
      "\n",
      "\n",
      "--------------- Visual Evaluation ---------------\n"
     ]
    },
    {
     "data": {
      "image/png": "[encoded data removed]",
      "text/plain": [
       "<Figure size 1008x360 with 2 Axes>"
      ]
     },
     "metadata": {
      "needs_background": "light"
     },
     "output_type": "display_data"
    }
   ],
   "source": [
    "# Build Model with Best Hyperparameters\n",
    "best_model = tuner.hypermodel.build(best_hps)\n",
    "\n",
    "# Train Model\n",
    "history = best_model.fit(X_train, y_train, epochs=20, validation_split=0.3, callbacks=[callback])\n",
    "\n",
    "# Evaluate Model on Test Data\n",
    "pred = best_model.predict(X_test)\n",
    "y_pred = np.argmax(pred, axis=1)\n",
    "\n",
    "results = evaluate(y_test, y_pred, X_train, y_train)\n",
    "model_results['Xception'] = results"
   ]
  },
  {
   "cell_type": "markdown",
   "id": "d0dc2749",
   "metadata": {},
   "source": [
    "## InceptionResNetV2 "
   ]
  },
  {
   "cell_type": "code",
   "execution_count": 24,
   "id": "e3ab8489",
   "metadata": {},
   "outputs": [
    {
     "name": "stdout",
     "output_type": "stream",
     "text": [
      "Reloading Tuner from tuning_results\\hyperparameter_tuning\\tuner0.json\n",
      "Best Hyperparameters: units=64, dropout=0.2, optimizer=adam, learning rate=0.001\n"
     ]
    }
   ],
   "source": [
    "# Define Tuner\n",
    "tuner = kt.RandomSearch(\n",
    "    lambda hp: build_model(hp, InceptionResNetV2),\n",
    "    objective='val_accuracy',\n",
    "    max_trials=5,  # Number of different hyperparameter combinations to try\n",
    "    executions_per_trial=1,  # Number of times each model is trained\n",
    "    directory='tuning_results',  \n",
    "    project_name='hyperparameter_tuning'\n",
    ")\n",
    "\n",
    "# Stop early if no improvement in 3 epochs\n",
    "callback = EarlyStopping(monitor='val_loss', patience=3, restore_best_weights=True)\n",
    "\n",
    "# Start Hyperparameter Search\n",
    "tuner.search(X_train, y_train, epochs=10, validation_split=0.3, callbacks=[callback])\n",
    "\n",
    "# Get Best Hyperparameters\n",
    "best_hps = tuner.get_best_hyperparameters(num_trials=1)[0]\n",
    "\n",
    "print(f\"Best Hyperparameters: units={best_hps.get('units')}, dropout={best_hps.get('dropout')}, \"\n",
    "      f\"optimizer={best_hps.get('optimizer')}, learning rate={best_hps.get('lr')}\")"
   ]
  },
  {
   "cell_type": "code",
   "execution_count": 25,
   "id": "22393dfb",
   "metadata": {},
   "outputs": [
    {
     "name": "stdout",
     "output_type": "stream",
     "text": [
      "Epoch 1/20\n",
      "899/899 [==============================] - 2596s 3s/step - loss: 2.0166 - accuracy: 0.5243 - val_loss: 0.6924 - val_accuracy: 0.5206\n",
      "Epoch 2/20\n",
      "899/899 [==============================] - 1867s 2s/step - loss: 0.6918 - accuracy: 0.5262 - val_loss: 0.6924 - val_accuracy: 0.5206\n",
      "Epoch 3/20\n",
      "899/899 [==============================] - 1850s 2s/step - loss: 0.6918 - accuracy: 0.5262 - val_loss: 0.6924 - val_accuracy: 0.5206\n",
      "Epoch 4/20\n",
      "899/899 [==============================] - 1842s 2s/step - loss: 0.6918 - accuracy: 0.5262 - val_loss: 0.6924 - val_accuracy: 0.5206\n",
      "Epoch 5/20\n",
      "899/899 [==============================] - 1840s 2s/step - loss: 0.6918 - accuracy: 0.5262 - val_loss: 0.6923 - val_accuracy: 0.5206\n",
      "Epoch 6/20\n",
      "899/899 [==============================] - 1853s 2s/step - loss: 0.6918 - accuracy: 0.5262 - val_loss: 0.6924 - val_accuracy: 0.5206\n",
      "Epoch 7/20\n",
      "899/899 [==============================] - 1852s 2s/step - loss: 0.6918 - accuracy: 0.5262 - val_loss: 0.6924 - val_accuracy: 0.5206\n",
      "Epoch 8/20\n",
      "899/899 [==============================] - 1846s 2s/step - loss: 0.6918 - accuracy: 0.5262 - val_loss: 0.6924 - val_accuracy: 0.5206\n",
      "322/322 [==============================] - 469s 1s/step\n",
      "\n",
      "--------------- Evaluation ---------------\n",
      "Accuracy: 0.518\n",
      "Precision: 0.0\n",
      "Recall: 0.0\n",
      "F1 Score: 0.0\n",
      "ROC AUC: 0.5\n",
      "\n",
      "Classification Report: \n",
      "                              precision    recall  f1-score   support\n",
      "\n",
      "0 -  Negative (No Pathology)       0.52      1.00      0.68      5322\n",
      "    1 - Positive (Pathology)       0.00      0.00      0.00      4951\n",
      "\n",
      "                    accuracy                           0.52     10273\n",
      "                   macro avg       0.26      0.50      0.34     10273\n",
      "                weighted avg       0.27      0.52      0.35     10273\n",
      "\n",
      "\n",
      "--------------- Visual Evaluation ---------------\n"
     ]
    },
    {
     "data": {
      "image/png": "[encoded data removed]",
      "text/plain": [
       "<Figure size 1008x360 with 2 Axes>"
      ]
     },
     "metadata": {
      "needs_background": "light"
     },
     "output_type": "display_data"
    }
   ],
   "source": [
    "# Build Model with Best Hyperparameters\n",
    "best_model = tuner.hypermodel.build(best_hps)\n",
    "\n",
    "# Train Model\n",
    "history = best_model.fit(X_train, y_train, epochs=20, validation_split=0.3, callbacks=[callback])\n",
    "\n",
    "# Evaluate Model on Test Data\n",
    "pred = best_model.predict(X_test)\n",
    "y_pred = np.argmax(pred, axis=1)\n",
    "\n",
    "results = evaluate(y_test, y_pred, X_train, y_train)\n",
    "model_results['InceptionResNetV2'] = results"
   ]
  },
  {
   "cell_type": "markdown",
   "id": "0e4b00c5",
   "metadata": {},
   "source": [
    "## VGG16 "
   ]
  },
  {
   "cell_type": "code",
   "execution_count": null,
   "id": "0e44d5d5",
   "metadata": {},
   "outputs": [],
   "source": [
    "# Define Tuner\n",
    "tuner = kt.RandomSearch(\n",
    "    lambda hp: build_model(hp, VGG16),\n",
    "    objective='val_accuracy',\n",
    "    max_trials=5,  # Number of different hyperparameter combinations to try\n",
    "    executions_per_trial=1,  # Number of times each model is trained\n",
    "    directory='tuning_results',  \n",
    "    project_name='hyperparameter_tuning'\n",
    ")\n",
    "\n",
    "# Stop early if no improvement in 3 epochs\n",
    "callback = EarlyStopping(monitor='val_loss', patience=3, restore_best_weights=True)\n",
    "\n",
    "# Start Hyperparameter Search\n",
    "tuner.search(X_train, y_train, epochs=10, validation_split=0.3, callbacks=[callback])\n",
    "\n",
    "# Get Best Hyperparameters\n",
    "best_hps = tuner.get_best_hyperparameters(num_trials=1)[0]\n",
    "\n",
    "print(f\"Best Hyperparameters: units={best_hps.get('units')}, dropout={best_hps.get('dropout')}, \"\n",
    "      f\"optimizer={best_hps.get('optimizer')}, learning rate={best_hps.get('lr')}\")"
   ]
  },
  {
   "cell_type": "code",
   "execution_count": null,
   "id": "6b203e5b",
   "metadata": {},
   "outputs": [],
   "source": [
    "# Build Model with Best Hyperparameters\n",
    "best_model = tuner.hypermodel.build(best_hps)\n",
    "\n",
    "# Train Model\n",
    "history = best_model.fit(X_train, y_train, epochs=20, validation_split=0.3, callbacks=[callback])\n",
    "\n",
    "# Evaluate Model on Test Data\n",
    "pred = best_model.predict(X_test)\n",
    "y_pred = np.argmax(pred, axis=1)\n",
    "\n",
    "results = evaluate(y_test, y_pred, X_train, y_train)\n",
    "model_results['VGG16'] = results"
   ]
  },
  {
   "cell_type": "markdown",
   "id": "6a635d3d",
   "metadata": {},
   "source": [
    "## Model Results "
   ]
  },
  {
   "cell_type": "code",
   "execution_count": 26,
   "id": "6be2d336",
   "metadata": {},
   "outputs": [
    {
     "data": {
      "text/html": [
       "<div>\n",
       "<style scoped>\n",
       "    .dataframe tbody tr th:only-of-type {\n",
       "        vertical-align: middle;\n",
       "    }\n",
       "\n",
       "    .dataframe tbody tr th {\n",
       "        vertical-align: top;\n",
       "    }\n",
       "\n",
       "    .dataframe thead th {\n",
       "        text-align: right;\n",
       "    }\n",
       "</style>\n",
       "<table border=\"1\" class=\"dataframe\">\n",
       "  <thead>\n",
       "    <tr style=\"text-align: right;\">\n",
       "      <th></th>\n",
       "      <th>Metrics</th>\n",
       "      <th>MobileNetV3 Small</th>\n",
       "      <th>MobileNetV3 Large</th>\n",
       "      <th>EfficientNetV2B0</th>\n",
       "      <th>DenseNet121</th>\n",
       "      <th>ResNet50V2</th>\n",
       "      <th>InceptionV3</th>\n",
       "      <th>Xception</th>\n",
       "      <th>InceptionResNetV2</th>\n",
       "    </tr>\n",
       "  </thead>\n",
       "  <tbody>\n",
       "    <tr>\n",
       "      <th>0</th>\n",
       "      <td>Accuracy</td>\n",
       "      <td>0.991434</td>\n",
       "      <td>0.997761</td>\n",
       "      <td>0.997664</td>\n",
       "      <td>0.952302</td>\n",
       "      <td>0.854278</td>\n",
       "      <td>0.832376</td>\n",
       "      <td>0.884260</td>\n",
       "      <td>0.518057</td>\n",
       "    </tr>\n",
       "    <tr>\n",
       "      <th>1</th>\n",
       "      <td>Precision</td>\n",
       "      <td>0.989925</td>\n",
       "      <td>0.998785</td>\n",
       "      <td>0.996774</td>\n",
       "      <td>0.966534</td>\n",
       "      <td>0.835340</td>\n",
       "      <td>0.864200</td>\n",
       "      <td>0.953472</td>\n",
       "      <td>0.000000</td>\n",
       "    </tr>\n",
       "    <tr>\n",
       "      <th>2</th>\n",
       "      <td>Recall</td>\n",
       "      <td>0.992325</td>\n",
       "      <td>0.996566</td>\n",
       "      <td>0.998384</td>\n",
       "      <td>0.933347</td>\n",
       "      <td>0.868915</td>\n",
       "      <td>0.773783</td>\n",
       "      <td>0.798829</td>\n",
       "      <td>0.000000</td>\n",
       "    </tr>\n",
       "    <tr>\n",
       "      <th>3</th>\n",
       "      <td>F1Score</td>\n",
       "      <td>0.991124</td>\n",
       "      <td>0.997675</td>\n",
       "      <td>0.997578</td>\n",
       "      <td>0.949651</td>\n",
       "      <td>0.851797</td>\n",
       "      <td>0.816496</td>\n",
       "      <td>0.869326</td>\n",
       "      <td>0.000000</td>\n",
       "    </tr>\n",
       "    <tr>\n",
       "      <th>4</th>\n",
       "      <td>ROC AUC</td>\n",
       "      <td>0.991465</td>\n",
       "      <td>0.997719</td>\n",
       "      <td>0.997689</td>\n",
       "      <td>0.951641</td>\n",
       "      <td>0.854788</td>\n",
       "      <td>0.830334</td>\n",
       "      <td>0.881282</td>\n",
       "      <td>0.500000</td>\n",
       "    </tr>\n",
       "  </tbody>\n",
       "</table>\n",
       "</div>"
      ],
      "text/plain": [
       "     Metrics  MobileNetV3 Small  MobileNetV3 Large  EfficientNetV2B0  \\\n",
       "0   Accuracy           0.991434           0.997761          0.997664   \n",
       "1  Precision           0.989925           0.998785          0.996774   \n",
       "2     Recall           0.992325           0.996566          0.998384   \n",
       "3    F1Score           0.991124           0.997675          0.997578   \n",
       "4    ROC AUC           0.991465           0.997719          0.997689   \n",
       "\n",
       "   DenseNet121  ResNet50V2  InceptionV3  Xception  InceptionResNetV2  \n",
       "0     0.952302    0.854278     0.832376  0.884260           0.518057  \n",
       "1     0.966534    0.835340     0.864200  0.953472           0.000000  \n",
       "2     0.933347    0.868915     0.773783  0.798829           0.000000  \n",
       "3     0.949651    0.851797     0.816496  0.869326           0.000000  \n",
       "4     0.951641    0.854788     0.830334  0.881282           0.500000  "
      ]
     },
     "execution_count": 26,
     "metadata": {},
     "output_type": "execute_result"
    }
   ],
   "source": [
    "model_results.head(10)"
   ]
  },
  {
   "cell_type": "code",
   "execution_count": 27,
   "id": "5b31a573",
   "metadata": {},
   "outputs": [],
   "source": [
    "model_results.to_csv('../results/tuned_augmented_image_model_results.csv', index=True)"
   ]
  },
  {
   "cell_type": "code",
   "execution_count": null,
   "id": "6d682ec1",
   "metadata": {},
   "outputs": [],
   "source": []
  }
 ],
 "metadata": {
  "kernelspec": {
   "display_name": "Python 3 (ipykernel)",
   "language": "python",
   "name": "python3"
  },
  "language_info": {
   "codemirror_mode": {
    "name": "ipython",
    "version": 3
   },
   "file_extension": ".py",
   "mimetype": "text/x-python",
   "name": "python",
   "nbconvert_exporter": "python",
   "pygments_lexer": "ipython3",
   "version": "3.9.7"
  },
  "toc": {
   "base_numbering": 1,
   "nav_menu": {},
   "number_sections": false,
   "sideBar": true,
   "skip_h1_title": false,
   "title_cell": "Table of Contents",
   "title_sidebar": "Contents",
   "toc_cell": false,
   "toc_position": {},
   "toc_section_display": true,
   "toc_window_display": false
  }
 },
 "nbformat": 4,
 "nbformat_minor": 5
}
