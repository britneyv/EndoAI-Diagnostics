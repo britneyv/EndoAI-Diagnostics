{
 "cells": [
  {
   "cell_type": "markdown",
   "id": "484ce205",
   "metadata": {},
   "source": [
    "# DL Tensorflow Architectures - \n",
    "## To find missing values  "
   ]
  },
  {
   "cell_type": "code",
   "execution_count": 1,
   "id": "0f6fc233",
   "metadata": {},
   "outputs": [],
   "source": [
    "import tensorflow as tf\n",
    "from tensorflow.keras.applications import (MobileNetV3Small, MobileNetV3Large, NASNetMobile, EfficientNetV2B0)\n",
    "import os"
   ]
  },
  {
   "cell_type": "code",
   "execution_count": 2,
   "id": "3630098c",
   "metadata": {},
   "outputs": [],
   "source": [
    "def get_model_info(model_name, model_fn, input_shape=(224, 224, 3)):\n",
    "    model = model_fn(weights=\"imagenet\", include_top=True, input_shape=input_shape)\n",
    "    \n",
    "    # Get number of trainable layers (layers with parameters) - how keras calculated them\n",
    "    depth = sum(1 for layer in model.layers if len(layer.weights) > 0)\n",
    "    \n",
    "    # Get number of parameters\n",
    "    params = model.count_params()\n",
    "    \n",
    "    # Get model size (approximate) by saving it and checking file size\n",
    "    model.save(\"temp_model.h5\")\n",
    "    size_mb = os.path.getsize(\"temp_model.h5\") / (1024 * 1024)  # Convert bytes to MB\n",
    "    os.remove(\"temp_model.h5\")\n",
    "    \n",
    "    # Display model info\n",
    "    print(f\"Model: {model_name}\")\n",
    "    print(f\"Size (MB): {size_mb:.2f}\")\n",
    "    print(f\"Parameters: {params:,}\")\n",
    "    print(f\"Depth (Layers with Parameters): {depth}\")\n",
    "    print(\"-\" * 40)"
   ]
  },
  {
   "cell_type": "code",
   "execution_count": 3,
   "id": "eeea66ab",
   "metadata": {},
   "outputs": [],
   "source": [
    "# List of models to evaluate\n",
    "models = {\n",
    "    \"MobileNetV3 Small\": MobileNetV3Small,\n",
    "    \"MobileNetV3 Large\": MobileNetV3Large,\n",
    "    \"NASNetMobile\": NASNetMobile,\n",
    "    \"EfficientNetV2 B0\": EfficientNetV2B0\n",
    "}"
   ]
  },
  {
   "cell_type": "code",
   "execution_count": 4,
   "id": "07ddebcb",
   "metadata": {},
   "outputs": [
    {
     "name": "stdout",
     "output_type": "stream",
     "text": [
      "WARNING:tensorflow:Compiled the loaded model, but the compiled metrics have yet to be built. `model.compile_metrics` will be empty until you train or evaluate the model.\n",
      "Model: MobileNetV3 Small\n",
      "Size (MB): 10.39\n",
      "Parameters: 2,554,968\n",
      "Depth (Layers with Parameters): 88\n",
      "----------------------------------------\n",
      "WARNING:tensorflow:Compiled the loaded model, but the compiled metrics have yet to be built. `model.compile_metrics` will be empty until you train or evaluate the model.\n",
      "Model: MobileNetV3 Large\n",
      "Size (MB): 21.79\n",
      "Parameters: 5,507,432\n",
      "Depth (Layers with Parameters): 110\n",
      "----------------------------------------\n",
      "WARNING:tensorflow:Compiled the loaded model, but the compiled metrics have yet to be built. `model.compile_metrics` will be empty until you train or evaluate the model.\n",
      "Model: NASNetMobile\n",
      "Size (MB): 22.35\n",
      "Parameters: 5,326,716\n",
      "Depth (Layers with Parameters): 389\n",
      "----------------------------------------\n",
      "WARNING:tensorflow:Compiled the loaded model, but the compiled metrics have yet to be built. `model.compile_metrics` will be empty until you train or evaluate the model.\n",
      "Model: EfficientNetV2 B0\n",
      "Size (MB): 28.18\n",
      "Parameters: 7,200,312\n",
      "Depth (Layers with Parameters): 151\n",
      "----------------------------------------\n"
     ]
    }
   ],
   "source": [
    "# Get model information\n",
    "for name, fn in models.items():\n",
    "    get_model_info(name, fn)"
   ]
  },
  {
   "cell_type": "code",
   "execution_count": null,
   "id": "54984fae",
   "metadata": {},
   "outputs": [],
   "source": []
  }
 ],
 "metadata": {
  "kernelspec": {
   "display_name": "Python 3 (ipykernel)",
   "language": "python",
   "name": "python3"
  },
  "language_info": {
   "codemirror_mode": {
    "name": "ipython",
    "version": 3
   },
   "file_extension": ".py",
   "mimetype": "text/x-python",
   "name": "python",
   "nbconvert_exporter": "python",
   "pygments_lexer": "ipython3",
   "version": "3.9.7"
  }
 },
 "nbformat": 4,
 "nbformat_minor": 5
}
