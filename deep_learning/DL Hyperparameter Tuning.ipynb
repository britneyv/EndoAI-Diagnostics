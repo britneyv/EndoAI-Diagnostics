{
 "cells": [
  {
   "cell_type": "markdown",
   "id": "1297d619",
   "metadata": {},
   "source": [
    "# Deep Learning Model with Hyperparameter Tuning\n",
    "\n",
    "### ImageNet Models:\n",
    "- MobileNetV3 Small\n",
    "- MobileNetV3 Large\n",
    "- NASNetMobile\n",
    "- EfficientNetV2 B0\n",
    "- DenseNet121\n",
    "- ResNet50\n",
    "- ResNet50V2\n",
    "- InceptionV3\n",
    "- Xception\n",
    "- InceptionResNetV2\n",
    "- VGG16"
   ]
  },
  {
   "cell_type": "markdown",
   "id": "ef4ab7e4",
   "metadata": {},
   "source": [
    "##### pip install keras-tuner"
   ]
  },
  {
   "cell_type": "code",
   "execution_count": 2,
   "id": "f5903f38",
   "metadata": {},
   "outputs": [],
   "source": [
    "## Imports\n",
    "import os\n",
    "import shutil\n",
    "import uuid\n",
    "import cv2\n",
    "import warnings\n",
    "import keras\n",
    "import time\n",
    "import numpy as np\n",
    "import pandas as pd\n",
    "import keras_tuner as kt\n",
    "import matplotlib.pyplot as plt\n",
    "import seaborn as sns\n",
    "\n",
    "## Tensorflow Imports\n",
    "from tensorflow.keras.preprocessing.image import load_img\n",
    "from tensorflow.keras.preprocessing import image\n",
    "from tensorflow.keras.callbacks import EarlyStopping\n",
    "from tensorflow.keras.utils import plot_model, to_categorical\n",
    "from tensorflow.keras.models import Sequential\n",
    "from tensorflow.keras.layers import Conv2D, Dense, MaxPooling2D, Activation, Flatten, Dropout, BatchNormalization\n",
    "from tensorflow.keras import models, layers\n",
    "from tensorflow.keras.optimizers import Adam, RMSprop\n",
    "from tensorflow.keras.applications import MobileNetV3Small, MobileNetV3Large, NASNetMobile, EfficientNetB0, EfficientNetV2B0, ConvNeXtTiny, DenseNet121, ResNet50V2, ConvNeXtSmall, ConvNeXtSmall, ConvNeXtBase, InceptionV3, Xception, InceptionResNetV2, VGG16 \n",
    "from tensorflow.keras.applications.resnet50 import ResNet50\n",
    "from tensorflow.keras.applications.resnet50 import preprocess_input, decode_predictions\n",
    "from tensorflow.keras.layers import Input\n",
    "from tensorflow.keras import backend as K\n",
    "\n",
    "## Sklearn Imports\n",
    "from sklearn.preprocessing import OneHotEncoder\n",
    "from sklearn.model_selection import train_test_split, cross_val_score\n",
    "from sklearn.metrics import confusion_matrix, accuracy_score, precision_score, recall_score, f1_score, roc_curve, auc, roc_auc_score, classification_report, precision_recall_curve, ConfusionMatrixDisplay\n",
    "\n",
    "warnings.filterwarnings(\"ignore\")"
   ]
  },
  {
   "cell_type": "code",
   "execution_count": 3,
   "id": "92b639ba",
   "metadata": {},
   "outputs": [
    {
     "data": {
      "text/plain": [
       "((25682, 224, 224, 3), (25682,))"
      ]
     },
     "execution_count": 3,
     "metadata": {},
     "output_type": "execute_result"
    }
   ],
   "source": [
    "#Try with 2000 samples from each class\n",
    "\n",
    "X = []\n",
    "y = []\n",
    "classes = ['no_pathology_train', 'pathology_train']\n",
    "base_path = 'C:/Users/vella/Mastes Thesis/processed_data/'\n",
    "\n",
    "#Turn images into numpy arrays\n",
    "for i, target in enumerate(classes):\n",
    "    files = base_path+target+'/'\n",
    "    \n",
    "    for file in os.listdir(files):\n",
    "        \n",
    "        # load the image\n",
    "        img = image.load_img(files+file)\n",
    "        \n",
    "        # convert it to an array\n",
    "        img_array = image.img_to_array(img, dtype='uint8')\n",
    "        \n",
    "        # resize \n",
    "        img_array = cv2.resize(img_array, dsize=(224, 224), interpolation=cv2.INTER_CUBIC)\n",
    "        \n",
    "        # append the array to X\n",
    "        X.append(img_array)\n",
    "        \n",
    "        # append the target to y\n",
    "        y.append(target)\n",
    "\n",
    "\n",
    "X = np.array(X)\n",
    "y = np.array(y)\n",
    "\n",
    "y_dict = {'no_pathology_train':0, 'pathology_train':1}\n",
    "y = np.vectorize(y_dict.get)(y)\n",
    "\n",
    "# shuffle the data\n",
    "shuffler = np.random.permutation(len(X))\n",
    "X = X[shuffler]\n",
    "y = y[shuffler]\n",
    "\n",
    "X.shape, y.shape\n",
    "# y"
   ]
  },
  {
   "cell_type": "code",
   "execution_count": 4,
   "id": "d29f30cd",
   "metadata": {},
   "outputs": [
    {
     "data": {
      "text/plain": [
       "((20545, 224, 224, 3), (20545, 2), (5137, 224, 224, 3), (5137, 2))"
      ]
     },
     "execution_count": 4,
     "metadata": {},
     "output_type": "execute_result"
    }
   ],
   "source": [
    "# Split the data\n",
    "X_train, X_test, y_train, y_test = train_test_split(X, y, train_size=0.8, test_size=0.2, random_state=42)\n",
    "# X_train.shape,y_train.shape,X_test.shape,y_test.shape\n",
    "\n",
    "# convert to binary\n",
    "y_train = to_categorical(y_train)\n",
    "y_test = to_categorical(y_test)\n",
    "y_train.shape, y_test.shape\n",
    "\n",
    "X_train.shape,y_train.shape,X_test.shape,y_test.shape"
   ]
  },
  {
   "cell_type": "code",
   "execution_count": 5,
   "id": "eb82e4e0",
   "metadata": {},
   "outputs": [
    {
     "data": {
      "text/html": [
       "<div>\n",
       "<style scoped>\n",
       "    .dataframe tbody tr th:only-of-type {\n",
       "        vertical-align: middle;\n",
       "    }\n",
       "\n",
       "    .dataframe tbody tr th {\n",
       "        vertical-align: top;\n",
       "    }\n",
       "\n",
       "    .dataframe thead th {\n",
       "        text-align: right;\n",
       "    }\n",
       "</style>\n",
       "<table border=\"1\" class=\"dataframe\">\n",
       "  <thead>\n",
       "    <tr style=\"text-align: right;\">\n",
       "      <th></th>\n",
       "      <th>Metrics</th>\n",
       "    </tr>\n",
       "  </thead>\n",
       "  <tbody>\n",
       "    <tr>\n",
       "      <th>0</th>\n",
       "      <td>Accuracy</td>\n",
       "    </tr>\n",
       "    <tr>\n",
       "      <th>1</th>\n",
       "      <td>Precision</td>\n",
       "    </tr>\n",
       "    <tr>\n",
       "      <th>2</th>\n",
       "      <td>Recall</td>\n",
       "    </tr>\n",
       "    <tr>\n",
       "      <th>3</th>\n",
       "      <td>F1Score</td>\n",
       "    </tr>\n",
       "    <tr>\n",
       "      <th>4</th>\n",
       "      <td>ROC AUC</td>\n",
       "    </tr>\n",
       "  </tbody>\n",
       "</table>\n",
       "</div>"
      ],
      "text/plain": [
       "     Metrics\n",
       "0   Accuracy\n",
       "1  Precision\n",
       "2     Recall\n",
       "3    F1Score\n",
       "4    ROC AUC"
      ]
     },
     "execution_count": 5,
     "metadata": {},
     "output_type": "execute_result"
    }
   ],
   "source": [
    "# For results\n",
    "model_results = pd.DataFrame({'Metrics':['Accuracy', 'Precision', 'Recall', 'F1Score', 'ROC AUC']})\n",
    "model_results.head()"
   ]
  },
  {
   "cell_type": "code",
   "execution_count": 6,
   "id": "18621c4e",
   "metadata": {},
   "outputs": [],
   "source": [
    "## evaluation functions \n",
    "\n",
    "def evaluate(ytest, ypred, xtrain, ytrain):\n",
    "    \n",
    "    accuracy = accuracy_score(ytest, ypred)\n",
    "    precision = precision_score(ytest, ypred)\n",
    "    recall = recall_score(ytest, ypred)\n",
    "    f1score = f1_score(ytest, ypred)\n",
    "    auc = roc_auc_score(ytest, ypred)\n",
    "    conf_matrix = confusion_matrix(ytest, ypred)\n",
    "    \n",
    "    print(\"\\n--------------- Evaluation ---------------\")\n",
    "    print(f'Accuracy: {accuracy:.3}')\n",
    "    print(f'Precision: {precision:.3}')\n",
    "    print(f'Recall: {recall:.3}')\n",
    "    print(f'F1 Score: {f1score:.3}')\n",
    "    print(f'ROC AUC: {auc:.3}')\n",
    "    print(f'\\nClassification Report: ')\n",
    "    print(classification_report(ytest, ypred, target_names=['0 -  Negative (No Pathology)', '1 - Positive (Pathology)']))\n",
    "    #print(f'\\nConfusion Matrix: \\n {conf_matrix}')\n",
    "    print(\"\\n--------------- Visual Evaluation ---------------\")\n",
    "    disp = ConfusionMatrixDisplay.from_predictions(ytest, ypred, cmap = 'cool')\n",
    "    #disp.plot()\n",
    "    fig = disp.figure_\n",
    "    fig.set_figwidth(14)\n",
    "    fig.set_figheight(5) \n",
    "    fig.suptitle('Confusion Matrix', fontsize = 15)\n",
    "    plt.show()\n",
    "        \n",
    "    return accuracy, precision, recall, f1score, auc"
   ]
  },
  {
   "cell_type": "code",
   "execution_count": 7,
   "id": "df7683dc",
   "metadata": {},
   "outputs": [],
   "source": [
    "def plot_curves(model_title, history):\n",
    "    # Curve plots\n",
    "    plt.figure(figsize=(12, 6))\n",
    "\n",
    "    # Accuracy curve plot\n",
    "    plt.subplot(1, 2, 1)\n",
    "    plt.plot(history['accuracy'], label='Training Accuracy')\n",
    "    plt.plot(history['val_accuracy'], label='Validation Accuracy')\n",
    "    plt.title('Accuracy over Epochs')  \n",
    "    plt.xlabel('Epochs')\n",
    "    plt.ylabel('Accuracy')\n",
    "    plt.legend()\n",
    "\n",
    "    # Loss curve plot\n",
    "    plt.subplot(1, 2, 2)\n",
    "    plt.plot(history['loss'], label='Training Loss')\n",
    "    plt.plot(history['val_loss'], label='Validation Loss')\n",
    "    plt.title('Loss over Epochs')  \n",
    "    plt.xlabel('Epochs')\n",
    "    plt.ylabel('Loss')\n",
    "    plt.legend()\n",
    "\n",
    "\n",
    "    # Main title for the entire figure\n",
    "    plt.suptitle(f\"{model_title} Accuracy and Loss Curve Plot\", fontsize=16)\n",
    "    \n",
    "    # Show the plots\n",
    "    plt.tight_layout()\n",
    "    plt.subplots_adjust(top=0.85)  \n",
    "    plt.show()"
   ]
  },
  {
   "cell_type": "code",
   "execution_count": 8,
   "id": "3e8808fd",
   "metadata": {},
   "outputs": [],
   "source": [
    "classes = ['no_pathology_train', 'pathology_train']  # Update this based on your dataset\n",
    "\n",
    "\n",
    "def build_model(hp, model_name):  # Hyperparameter object\n",
    "    K.clear_session()\n",
    "\n",
    "    # Load Pretrained Base Model\n",
    "    init_model = model_name(include_top=False, weights=\"imagenet\", pooling='avg',\n",
    "                                  input_tensor=Input(shape=(224, 224, 3)))\n",
    "\n",
    "    # Freeze Pretrained Weights\n",
    "    init_model.trainable = False\n",
    "\n",
    "    # Define Model\n",
    "    model = Sequential()\n",
    "    model.add(init_model)\n",
    "\n",
    "    # **Tune the number of neurons in the Dense layer**\n",
    "    units = hp.Int('units', min_value=64, max_value=256, step=64)\n",
    "    model.add(Dense(units, activation='relu'))\n",
    "\n",
    "    # **Tune the dropout rate**\n",
    "    dropout = hp.Float('dropout', min_value=0.2, max_value=0.5, step=0.1)\n",
    "    model.add(Dropout(dropout))\n",
    "\n",
    "    model.add(Dense(len(classes), activation='softmax'))\n",
    "\n",
    "    # **Tune the learning rate and optimizer**\n",
    "    optimizer_choice = hp.Choice('optimizer', ['adam', 'rmsprop'])\n",
    "    learning_rate = hp.Choice('lr', [0.0001, 0.001, 0.01])\n",
    "\n",
    "    if optimizer_choice == 'adam':\n",
    "        optimizer = Adam(learning_rate=learning_rate)\n",
    "    else:\n",
    "        optimizer = RMSprop(learning_rate=learning_rate)\n",
    "\n",
    "    # Compile Model\n",
    "    model.compile(optimizer=optimizer, loss='categorical_crossentropy', metrics=['accuracy'])\n",
    "\n",
    "    return model\n"
   ]
  },
  {
   "cell_type": "markdown",
   "id": "3ffc6af8",
   "metadata": {},
   "source": [
    "## MobileNetV3 Small "
   ]
  },
  {
   "cell_type": "code",
   "execution_count": 9,
   "id": "7ecfa5f9",
   "metadata": {},
   "outputs": [
    {
     "name": "stdout",
     "output_type": "stream",
     "text": [
      "Reloading Tuner from tuning_results\\hyperparameter_tuning\\tuner0.json\n",
      "Best Hyperparameters: units=64, dropout=0.2, optimizer=adam, learning rate=0.001\n"
     ]
    }
   ],
   "source": [
    "# Define Tuner\n",
    "tuner = kt.RandomSearch(\n",
    "    lambda hp: build_model(hp, MobileNetV3Small),\n",
    "    objective='val_accuracy',\n",
    "    max_trials=5,  # Number of different hyperparameter combinations to try\n",
    "    executions_per_trial=1,  # Number of times each model is trained\n",
    "    directory='tuning_results',  \n",
    "    project_name='hyperparameter_tuning'\n",
    ")\n",
    "\n",
    "# Stop early if no improvement in 3 epochs\n",
    "callback = EarlyStopping(monitor='val_loss', patience=3, restore_best_weights=True)\n",
    "\n",
    "# Start Hyperparameter Search\n",
    "tuner.search(X_train, y_train, epochs=10, validation_split=0.3, callbacks=[callback])\n",
    "\n",
    "# Get Best Hyperparameters\n",
    "best_hps = tuner.get_best_hyperparameters(num_trials=1)[0]\n",
    "\n",
    "print(f\"Best Hyperparameters: units={best_hps.get('units')}, dropout={best_hps.get('dropout')}, \"\n",
    "      f\"optimizer={best_hps.get('optimizer')}, learning rate={best_hps.get('lr')}\")"
   ]
  },
  {
   "cell_type": "code",
   "execution_count": 10,
   "id": "89378096",
   "metadata": {},
   "outputs": [
    {
     "name": "stdout",
     "output_type": "stream",
     "text": [
      "Epoch 1/20\n",
      "450/450 [==============================] - 116s 252ms/step - loss: 0.1747 - accuracy: 0.9305 - val_loss: 0.0557 - val_accuracy: 0.9860\n",
      "Epoch 2/20\n",
      "450/450 [==============================] - 101s 226ms/step - loss: 0.0459 - accuracy: 0.9876 - val_loss: 0.0232 - val_accuracy: 0.9959\n",
      "Epoch 3/20\n",
      "450/450 [==============================] - 111s 246ms/step - loss: 0.0268 - accuracy: 0.9930 - val_loss: 0.0326 - val_accuracy: 0.9917\n",
      "Epoch 4/20\n",
      "450/450 [==============================] - 100s 223ms/step - loss: 0.0142 - accuracy: 0.9964 - val_loss: 0.0123 - val_accuracy: 0.9974\n",
      "Epoch 5/20\n",
      "450/450 [==============================] - 99s 221ms/step - loss: 0.0109 - accuracy: 0.9976 - val_loss: 0.0118 - val_accuracy: 0.9971\n",
      "Epoch 6/20\n",
      "450/450 [==============================] - 102s 226ms/step - loss: 0.0077 - accuracy: 0.9983 - val_loss: 0.0143 - val_accuracy: 0.9966\n",
      "Epoch 7/20\n",
      "450/450 [==============================] - 100s 223ms/step - loss: 0.0071 - accuracy: 0.9981 - val_loss: 0.0211 - val_accuracy: 0.9948\n",
      "Epoch 8/20\n",
      "450/450 [==============================] - 99s 221ms/step - loss: 0.0096 - accuracy: 0.9969 - val_loss: 0.0103 - val_accuracy: 0.9984\n",
      "Epoch 9/20\n",
      "450/450 [==============================] - 99s 220ms/step - loss: 0.0050 - accuracy: 0.9987 - val_loss: 0.0143 - val_accuracy: 0.9974\n",
      "Epoch 10/20\n",
      "450/450 [==============================] - 100s 222ms/step - loss: 0.0056 - accuracy: 0.9983 - val_loss: 0.0115 - val_accuracy: 0.9977\n",
      "Epoch 11/20\n",
      "450/450 [==============================] - 99s 220ms/step - loss: 0.0070 - accuracy: 0.9978 - val_loss: 0.0100 - val_accuracy: 0.9982\n",
      "Epoch 12/20\n",
      "450/450 [==============================] - 98s 218ms/step - loss: 0.0059 - accuracy: 0.9981 - val_loss: 0.0105 - val_accuracy: 0.9974\n",
      "Epoch 13/20\n",
      "450/450 [==============================] - 98s 218ms/step - loss: 0.0030 - accuracy: 0.9993 - val_loss: 0.0113 - val_accuracy: 0.9974\n",
      "Epoch 14/20\n",
      "450/450 [==============================] - 98s 218ms/step - loss: 0.0054 - accuracy: 0.9979 - val_loss: 0.0100 - val_accuracy: 0.9981\n",
      "161/161 [==============================] - 25s 154ms/step\n",
      "\n",
      "--------------- Evaluation ---------------\n",
      "Accuracy: 0.999\n",
      "Precision: 1.0\n",
      "Recall: 0.998\n",
      "F1 Score: 0.999\n",
      "ROC AUC: 0.999\n",
      "\n",
      "Classification Report: \n",
      "                              precision    recall  f1-score   support\n",
      "\n",
      "0 -  Negative (No Pathology)       1.00      1.00      1.00      2697\n",
      "    1 - Positive (Pathology)       1.00      1.00      1.00      2440\n",
      "\n",
      "                    accuracy                           1.00      5137\n",
      "                   macro avg       1.00      1.00      1.00      5137\n",
      "                weighted avg       1.00      1.00      1.00      5137\n",
      "\n",
      "\n",
      "--------------- Visual Evaluation ---------------\n"
     ]
    },
    {
     "data": {
      "image/png": "[encoded data removed]",
      "text/plain": [
       "<Figure size 1008x360 with 2 Axes>"
      ]
     },
     "metadata": {
      "needs_background": "light"
     },
     "output_type": "display_data"
    }
   ],
   "source": [
    "# Build Model with Best Hyperparameters\n",
    "best_model = tuner.hypermodel.build(best_hps)\n",
    "\n",
    "# Train Model\n",
    "history = best_model.fit(X_train, y_train, epochs=20, validation_split=0.3, callbacks=[callback])\n",
    "\n",
    "# Evaluate Model on Test Data\n",
    "pred = best_model.predict(X_test)\n",
    "y_pred = np.argmax(pred, axis=1)\n",
    "y_test = np.argmax(y_test, axis=1)\n",
    "\n",
    "results = evaluate(y_test, y_pred, X_train, y_train)\n",
    "model_results['MobileNetV3 Small Tuned'] = results"
   ]
  },
  {
   "cell_type": "markdown",
   "id": "d00fe5e3",
   "metadata": {},
   "source": [
    "## MobileNetV3 Large "
   ]
  },
  {
   "cell_type": "code",
   "execution_count": 11,
   "id": "3a845e7a",
   "metadata": {},
   "outputs": [
    {
     "name": "stdout",
     "output_type": "stream",
     "text": [
      "Reloading Tuner from tuning_results\\hyperparameter_tuning\\tuner0.json\n",
      "Best Hyperparameters: units=64, dropout=0.2, optimizer=adam, learning rate=0.001\n"
     ]
    }
   ],
   "source": [
    "# Define Tuner\n",
    "tuner = kt.RandomSearch(\n",
    "    lambda hp: build_model(hp, MobileNetV3Large),\n",
    "    objective='val_accuracy',\n",
    "    max_trials=5,  # Number of different hyperparameter combinations to try\n",
    "    executions_per_trial=1,  # Number of times each model is trained\n",
    "    directory='tuning_results',  \n",
    "    project_name='hyperparameter_tuning'\n",
    ")\n",
    "\n",
    "# Stop early if no improvement in 3 epochs\n",
    "callback = EarlyStopping(monitor='val_loss', patience=3, restore_best_weights=True)\n",
    "\n",
    "# Start Hyperparameter Search\n",
    "tuner.search(X_train, y_train, epochs=10, validation_split=0.3, callbacks=[callback])\n",
    "\n",
    "# Get Best Hyperparameters\n",
    "best_hps = tuner.get_best_hyperparameters(num_trials=1)[0]\n",
    "\n",
    "print(f\"Best Hyperparameters: units={best_hps.get('units')}, dropout={best_hps.get('dropout')}, \"\n",
    "      f\"optimizer={best_hps.get('optimizer')}, learning rate={best_hps.get('lr')}\")"
   ]
  },
  {
   "cell_type": "code",
   "execution_count": 14,
   "id": "3ebe4434",
   "metadata": {},
   "outputs": [
    {
     "name": "stdout",
     "output_type": "stream",
     "text": [
      "Epoch 1/20\n",
      "450/450 [==============================] - 242s 531ms/step - loss: 0.1315 - accuracy: 0.9518 - val_loss: 0.0277 - val_accuracy: 0.9948\n",
      "Epoch 2/20\n",
      "450/450 [==============================] - 226s 503ms/step - loss: 0.0248 - accuracy: 0.9943 - val_loss: 0.0164 - val_accuracy: 0.9959\n",
      "Epoch 3/20\n",
      "450/450 [==============================] - 227s 505ms/step - loss: 0.0134 - accuracy: 0.9971 - val_loss: 0.0106 - val_accuracy: 0.9981\n",
      "Epoch 4/20\n",
      "450/450 [==============================] - 231s 513ms/step - loss: 0.0082 - accuracy: 0.9983 - val_loss: 0.0081 - val_accuracy: 0.9984\n",
      "Epoch 5/20\n",
      "450/450 [==============================] - 235s 523ms/step - loss: 0.0061 - accuracy: 0.9983 - val_loss: 0.0119 - val_accuracy: 0.9971\n",
      "Epoch 6/20\n",
      "450/450 [==============================] - 231s 513ms/step - loss: 0.0047 - accuracy: 0.9990 - val_loss: 0.0093 - val_accuracy: 0.9979\n",
      "Epoch 7/20\n",
      "450/450 [==============================] - 235s 524ms/step - loss: 0.0048 - accuracy: 0.9989 - val_loss: 0.0079 - val_accuracy: 0.9985\n",
      "Epoch 8/20\n",
      "450/450 [==============================] - 237s 527ms/step - loss: 0.0035 - accuracy: 0.9987 - val_loss: 0.0078 - val_accuracy: 0.9982\n",
      "Epoch 9/20\n",
      "450/450 [==============================] - 234s 520ms/step - loss: 0.0043 - accuracy: 0.9987 - val_loss: 0.0111 - val_accuracy: 0.9966\n",
      "Epoch 10/20\n",
      "450/450 [==============================] - 236s 526ms/step - loss: 0.0098 - accuracy: 0.9969 - val_loss: 0.0181 - val_accuracy: 0.9951\n",
      "Epoch 11/20\n",
      "450/450 [==============================] - 230s 511ms/step - loss: 0.0038 - accuracy: 0.9987 - val_loss: 0.0079 - val_accuracy: 0.9987\n",
      "161/161 [==============================] - 60s 368ms/step\n"
     ]
    },
    {
     "ename": "AxisError",
     "evalue": "axis 1 is out of bounds for array of dimension 1",
     "output_type": "error",
     "traceback": [
      "\u001b[1;31m---------------------------------------------------------------------------\u001b[0m",
      "\u001b[1;31mAxisError\u001b[0m                                 Traceback (most recent call last)",
      "\u001b[1;32m~\\AppData\\Local\\Temp/ipykernel_15604/3454244425.py\u001b[0m in \u001b[0;36m<cell line: 10>\u001b[1;34m()\u001b[0m\n\u001b[0;32m      8\u001b[0m \u001b[0mpred\u001b[0m \u001b[1;33m=\u001b[0m \u001b[0mbest_model\u001b[0m\u001b[1;33m.\u001b[0m\u001b[0mpredict\u001b[0m\u001b[1;33m(\u001b[0m\u001b[0mX_test\u001b[0m\u001b[1;33m)\u001b[0m\u001b[1;33m\u001b[0m\u001b[1;33m\u001b[0m\u001b[0m\n\u001b[0;32m      9\u001b[0m \u001b[0my_pred\u001b[0m \u001b[1;33m=\u001b[0m \u001b[0mnp\u001b[0m\u001b[1;33m.\u001b[0m\u001b[0margmax\u001b[0m\u001b[1;33m(\u001b[0m\u001b[0mpred\u001b[0m\u001b[1;33m,\u001b[0m \u001b[0maxis\u001b[0m\u001b[1;33m=\u001b[0m\u001b[1;36m1\u001b[0m\u001b[1;33m)\u001b[0m\u001b[1;33m\u001b[0m\u001b[1;33m\u001b[0m\u001b[0m\n\u001b[1;32m---> 10\u001b[1;33m \u001b[0my_test\u001b[0m \u001b[1;33m=\u001b[0m \u001b[0mnp\u001b[0m\u001b[1;33m.\u001b[0m\u001b[0margmax\u001b[0m\u001b[1;33m(\u001b[0m\u001b[0my_test\u001b[0m\u001b[1;33m,\u001b[0m \u001b[0maxis\u001b[0m\u001b[1;33m=\u001b[0m\u001b[1;36m1\u001b[0m\u001b[1;33m)\u001b[0m\u001b[1;33m\u001b[0m\u001b[1;33m\u001b[0m\u001b[0m\n\u001b[0m\u001b[0;32m     11\u001b[0m \u001b[1;33m\u001b[0m\u001b[0m\n\u001b[0;32m     12\u001b[0m \u001b[0mresults\u001b[0m \u001b[1;33m=\u001b[0m \u001b[0mevaluate\u001b[0m\u001b[1;33m(\u001b[0m\u001b[0my_test\u001b[0m\u001b[1;33m,\u001b[0m \u001b[0my_pred\u001b[0m\u001b[1;33m,\u001b[0m \u001b[0mX_train\u001b[0m\u001b[1;33m,\u001b[0m \u001b[0my_train\u001b[0m\u001b[1;33m)\u001b[0m\u001b[1;33m\u001b[0m\u001b[1;33m\u001b[0m\u001b[0m\n",
      "\u001b[1;32m~\\AppData\\Roaming\\Python\\Python39\\site-packages\\numpy\\core\\overrides.py\u001b[0m in \u001b[0;36margmax\u001b[1;34m(*args, **kwargs)\u001b[0m\n",
      "\u001b[1;32m~\\AppData\\Roaming\\Python\\Python39\\site-packages\\numpy\\core\\fromnumeric.py\u001b[0m in \u001b[0;36margmax\u001b[1;34m(a, axis, out, keepdims)\u001b[0m\n\u001b[0;32m   1240\u001b[0m     \"\"\"\n\u001b[0;32m   1241\u001b[0m     \u001b[0mkwds\u001b[0m \u001b[1;33m=\u001b[0m \u001b[1;33m{\u001b[0m\u001b[1;34m'keepdims'\u001b[0m\u001b[1;33m:\u001b[0m \u001b[0mkeepdims\u001b[0m\u001b[1;33m}\u001b[0m \u001b[1;32mif\u001b[0m \u001b[0mkeepdims\u001b[0m \u001b[1;32mis\u001b[0m \u001b[1;32mnot\u001b[0m \u001b[0mnp\u001b[0m\u001b[1;33m.\u001b[0m\u001b[0m_NoValue\u001b[0m \u001b[1;32melse\u001b[0m \u001b[1;33m{\u001b[0m\u001b[1;33m}\u001b[0m\u001b[1;33m\u001b[0m\u001b[1;33m\u001b[0m\u001b[0m\n\u001b[1;32m-> 1242\u001b[1;33m     \u001b[1;32mreturn\u001b[0m \u001b[0m_wrapfunc\u001b[0m\u001b[1;33m(\u001b[0m\u001b[0ma\u001b[0m\u001b[1;33m,\u001b[0m \u001b[1;34m'argmax'\u001b[0m\u001b[1;33m,\u001b[0m \u001b[0maxis\u001b[0m\u001b[1;33m=\u001b[0m\u001b[0maxis\u001b[0m\u001b[1;33m,\u001b[0m \u001b[0mout\u001b[0m\u001b[1;33m=\u001b[0m\u001b[0mout\u001b[0m\u001b[1;33m,\u001b[0m \u001b[1;33m**\u001b[0m\u001b[0mkwds\u001b[0m\u001b[1;33m)\u001b[0m\u001b[1;33m\u001b[0m\u001b[1;33m\u001b[0m\u001b[0m\n\u001b[0m\u001b[0;32m   1243\u001b[0m \u001b[1;33m\u001b[0m\u001b[0m\n\u001b[0;32m   1244\u001b[0m \u001b[1;33m\u001b[0m\u001b[0m\n",
      "\u001b[1;32m~\\AppData\\Roaming\\Python\\Python39\\site-packages\\numpy\\core\\fromnumeric.py\u001b[0m in \u001b[0;36m_wrapfunc\u001b[1;34m(obj, method, *args, **kwds)\u001b[0m\n\u001b[0;32m     55\u001b[0m \u001b[1;33m\u001b[0m\u001b[0m\n\u001b[0;32m     56\u001b[0m     \u001b[1;32mtry\u001b[0m\u001b[1;33m:\u001b[0m\u001b[1;33m\u001b[0m\u001b[1;33m\u001b[0m\u001b[0m\n\u001b[1;32m---> 57\u001b[1;33m         \u001b[1;32mreturn\u001b[0m \u001b[0mbound\u001b[0m\u001b[1;33m(\u001b[0m\u001b[1;33m*\u001b[0m\u001b[0margs\u001b[0m\u001b[1;33m,\u001b[0m \u001b[1;33m**\u001b[0m\u001b[0mkwds\u001b[0m\u001b[1;33m)\u001b[0m\u001b[1;33m\u001b[0m\u001b[1;33m\u001b[0m\u001b[0m\n\u001b[0m\u001b[0;32m     58\u001b[0m     \u001b[1;32mexcept\u001b[0m \u001b[0mTypeError\u001b[0m\u001b[1;33m:\u001b[0m\u001b[1;33m\u001b[0m\u001b[1;33m\u001b[0m\u001b[0m\n\u001b[0;32m     59\u001b[0m         \u001b[1;31m# A TypeError occurs if the object does have such a method in its\u001b[0m\u001b[1;33m\u001b[0m\u001b[1;33m\u001b[0m\u001b[0m\n",
      "\u001b[1;31mAxisError\u001b[0m: axis 1 is out of bounds for array of dimension 1"
     ]
    }
   ],
   "source": [
    "# Build Model with Best Hyperparameters\n",
    "best_model = tuner.hypermodel.build(best_hps)\n",
    "\n",
    "# Train Model\n",
    "history = best_model.fit(X_train, y_train, epochs=20, validation_split=0.3, callbacks=[callback])\n",
    "\n",
    "# Evaluate Model on Test Data\n",
    "pred = best_model.predict(X_test)\n",
    "y_pred = np.argmax(pred, axis=1)\n",
    "\n",
    "results = evaluate(y_test, y_pred, X_train, y_train)\n",
    "model_results['MobileNetV3 Large Tuned'] = results"
   ]
  },
  {
   "cell_type": "code",
   "execution_count": 15,
   "id": "c2483142",
   "metadata": {},
   "outputs": [
    {
     "name": "stdout",
     "output_type": "stream",
     "text": [
      "\n",
      "--------------- Evaluation ---------------\n",
      "Accuracy: 1.0\n",
      "Precision: 1.0\n",
      "Recall: 1.0\n",
      "F1 Score: 1.0\n",
      "ROC AUC: 1.0\n",
      "\n",
      "Classification Report: \n",
      "                              precision    recall  f1-score   support\n",
      "\n",
      "0 -  Negative (No Pathology)       1.00      1.00      1.00      2697\n",
      "    1 - Positive (Pathology)       1.00      1.00      1.00      2440\n",
      "\n",
      "                    accuracy                           1.00      5137\n",
      "                   macro avg       1.00      1.00      1.00      5137\n",
      "                weighted avg       1.00      1.00      1.00      5137\n",
      "\n",
      "\n",
      "--------------- Visual Evaluation ---------------\n"
     ]
    },
    {
     "data": {
      "image/png": "[encoded data removed]",
      "text/plain": [
       "<Figure size 1008x360 with 2 Axes>"
      ]
     },
     "metadata": {
      "needs_background": "light"
     },
     "output_type": "display_data"
    }
   ],
   "source": [
    "results = evaluate(y_test, y_pred, X_train, y_train)\n",
    "model_results['MobileNetV3 Large Tuned'] = results"
   ]
  },
  {
   "cell_type": "markdown",
   "id": "20e04c42",
   "metadata": {},
   "source": [
    "##  NASNetMobile"
   ]
  },
  {
   "cell_type": "code",
   "execution_count": 16,
   "id": "76b6abd7",
   "metadata": {},
   "outputs": [
    {
     "name": "stdout",
     "output_type": "stream",
     "text": [
      "Reloading Tuner from tuning_results\\hyperparameter_tuning\\tuner0.json\n",
      "Best Hyperparameters: units=64, dropout=0.2, optimizer=adam, learning rate=0.001\n"
     ]
    }
   ],
   "source": [
    "# Define Tuner\n",
    "tuner = kt.RandomSearch(\n",
    "    lambda hp: build_model(hp, NASNetMobile),\n",
    "    objective='val_accuracy',\n",
    "    max_trials=5,  # Number of different hyperparameter combinations to try\n",
    "    executions_per_trial=1,  # Number of times each model is trained\n",
    "    directory='tuning_results',  \n",
    "    project_name='hyperparameter_tuning'\n",
    ")\n",
    "\n",
    "# Stop early if no improvement in 3 epochs\n",
    "callback = EarlyStopping(monitor='val_loss', patience=3, restore_best_weights=True)\n",
    "\n",
    "# Start Hyperparameter Search\n",
    "tuner.search(X_train, y_train, epochs=10, validation_split=0.3, callbacks=[callback])\n",
    "\n",
    "# Get Best Hyperparameters\n",
    "best_hps = tuner.get_best_hyperparameters(num_trials=1)[0]\n",
    "\n",
    "print(f\"Best Hyperparameters: units={best_hps.get('units')}, dropout={best_hps.get('dropout')}, \"\n",
    "      f\"optimizer={best_hps.get('optimizer')}, learning rate={best_hps.get('lr')}\")"
   ]
  },
  {
   "cell_type": "code",
   "execution_count": 18,
   "id": "e1ceb18a",
   "metadata": {},
   "outputs": [
    {
     "name": "stdout",
     "output_type": "stream",
     "text": [
      "Epoch 1/20\n",
      "450/450 [==============================] - 327s 707ms/step - loss: 0.6798 - accuracy: 0.7469 - val_loss: 0.3356 - val_accuracy: 0.8537\n",
      "Epoch 2/20\n",
      "450/450 [==============================] - 313s 697ms/step - loss: 0.2996 - accuracy: 0.8775 - val_loss: 0.2929 - val_accuracy: 0.8725\n",
      "Epoch 3/20\n",
      "450/450 [==============================] - 315s 701ms/step - loss: 0.2326 - accuracy: 0.9075 - val_loss: 0.1852 - val_accuracy: 0.9401\n",
      "Epoch 4/20\n",
      "450/450 [==============================] - 315s 702ms/step - loss: 0.1924 - accuracy: 0.9266 - val_loss: 0.1789 - val_accuracy: 0.9379\n",
      "Epoch 5/20\n",
      "450/450 [==============================] - 315s 700ms/step - loss: 0.1630 - accuracy: 0.9410 - val_loss: 0.1623 - val_accuracy: 0.9460\n",
      "Epoch 6/20\n",
      "450/450 [==============================] - 314s 698ms/step - loss: 0.1468 - accuracy: 0.9444 - val_loss: 0.1469 - val_accuracy: 0.9458\n",
      "Epoch 7/20\n",
      "450/450 [==============================] - 314s 699ms/step - loss: 0.1401 - accuracy: 0.9477 - val_loss: 0.1103 - val_accuracy: 0.9611\n",
      "Epoch 8/20\n",
      "450/450 [==============================] - 314s 698ms/step - loss: 0.1247 - accuracy: 0.9555 - val_loss: 0.1120 - val_accuracy: 0.9599\n",
      "Epoch 9/20\n",
      "450/450 [==============================] - 312s 694ms/step - loss: 0.1123 - accuracy: 0.9598 - val_loss: 0.0949 - val_accuracy: 0.9677\n",
      "Epoch 10/20\n",
      "450/450 [==============================] - 312s 694ms/step - loss: 0.1029 - accuracy: 0.9635 - val_loss: 0.0977 - val_accuracy: 0.9721\n",
      "Epoch 11/20\n",
      "450/450 [==============================] - 312s 693ms/step - loss: 0.0946 - accuracy: 0.9668 - val_loss: 0.0869 - val_accuracy: 0.9737\n",
      "Epoch 12/20\n",
      "450/450 [==============================] - 313s 697ms/step - loss: 0.0983 - accuracy: 0.9640 - val_loss: 0.0791 - val_accuracy: 0.9768\n",
      "Epoch 13/20\n",
      "450/450 [==============================] - 314s 699ms/step - loss: 0.0863 - accuracy: 0.9681 - val_loss: 0.0833 - val_accuracy: 0.9791\n",
      "Epoch 14/20\n",
      "450/450 [==============================] - 314s 699ms/step - loss: 0.0829 - accuracy: 0.9678 - val_loss: 0.0688 - val_accuracy: 0.9805\n",
      "Epoch 15/20\n",
      "450/450 [==============================] - 315s 701ms/step - loss: 0.0832 - accuracy: 0.9693 - val_loss: 0.0779 - val_accuracy: 0.9752\n",
      "Epoch 16/20\n",
      "450/450 [==============================] - 314s 698ms/step - loss: 0.0771 - accuracy: 0.9716 - val_loss: 0.0668 - val_accuracy: 0.9817\n",
      "Epoch 17/20\n",
      "450/450 [==============================] - 313s 696ms/step - loss: 0.0669 - accuracy: 0.9755 - val_loss: 0.0801 - val_accuracy: 0.9794\n",
      "Epoch 18/20\n",
      "450/450 [==============================] - 312s 695ms/step - loss: 0.0750 - accuracy: 0.9732 - val_loss: 0.0706 - val_accuracy: 0.9791\n",
      "Epoch 19/20\n",
      "450/450 [==============================] - 313s 697ms/step - loss: 0.0676 - accuracy: 0.9756 - val_loss: 0.0767 - val_accuracy: 0.9753\n",
      "161/161 [==============================] - 82s 494ms/step\n",
      "\n",
      "--------------- Evaluation ---------------\n",
      "Accuracy: 0.977\n",
      "Precision: 0.976\n",
      "Recall: 0.975\n",
      "F1 Score: 0.975\n",
      "ROC AUC: 0.977\n",
      "\n",
      "Classification Report: \n",
      "                              precision    recall  f1-score   support\n",
      "\n",
      "0 -  Negative (No Pathology)       0.98      0.98      0.98      2697\n",
      "    1 - Positive (Pathology)       0.98      0.97      0.98      2440\n",
      "\n",
      "                    accuracy                           0.98      5137\n",
      "                   macro avg       0.98      0.98      0.98      5137\n",
      "                weighted avg       0.98      0.98      0.98      5137\n",
      "\n",
      "\n",
      "--------------- Visual Evaluation ---------------\n"
     ]
    },
    {
     "data": {
      "image/png": "[encoded data removed]",
      "text/plain": [
       "<Figure size 1008x360 with 2 Axes>"
      ]
     },
     "metadata": {
      "needs_background": "light"
     },
     "output_type": "display_data"
    }
   ],
   "source": [
    "# Build Model with Best Hyperparameters\n",
    "best_model = tuner.hypermodel.build(best_hps)\n",
    "\n",
    "# Train Model\n",
    "history = best_model.fit(X_train, y_train, epochs=20, validation_split=0.3, callbacks=[callback])\n",
    "\n",
    "# Evaluate Model on Test Data\n",
    "pred = best_model.predict(X_test)\n",
    "y_pred = np.argmax(pred, axis=1)\n",
    "\n",
    "results = evaluate(y_test, y_pred, X_train, y_train)\n",
    "model_results['NASNetMobile Tuned'] = results"
   ]
  },
  {
   "cell_type": "markdown",
   "id": "449b2209",
   "metadata": {},
   "source": [
    "##  EfficientNetV2B0"
   ]
  },
  {
   "cell_type": "code",
   "execution_count": 19,
   "id": "612087f0",
   "metadata": {},
   "outputs": [
    {
     "name": "stdout",
     "output_type": "stream",
     "text": [
      "Reloading Tuner from tuning_results\\hyperparameter_tuning\\tuner0.json\n",
      "Best Hyperparameters: units=64, dropout=0.2, optimizer=adam, learning rate=0.001\n"
     ]
    }
   ],
   "source": [
    "# Define Tuner\n",
    "tuner = kt.RandomSearch(\n",
    "    lambda hp: build_model(hp, EfficientNetV2B0),\n",
    "    objective='val_accuracy',\n",
    "    max_trials=5,  # Number of different hyperparameter combinations to try\n",
    "    executions_per_trial=1,  # Number of times each model is trained\n",
    "    directory='tuning_results',  \n",
    "    project_name='hyperparameter_tuning'\n",
    ")\n",
    "\n",
    "# Stop early if no improvement in 3 epochs\n",
    "callback = EarlyStopping(monitor='val_loss', patience=3, restore_best_weights=True)\n",
    "\n",
    "# Start Hyperparameter Search\n",
    "tuner.search(X_train, y_train, epochs=10, validation_split=0.3, callbacks=[callback])\n",
    "\n",
    "# Get Best Hyperparameters\n",
    "best_hps = tuner.get_best_hyperparameters(num_trials=1)[0]\n",
    "\n",
    "print(f\"Best Hyperparameters: units={best_hps.get('units')}, dropout={best_hps.get('dropout')}, \"\n",
    "      f\"optimizer={best_hps.get('optimizer')}, learning rate={best_hps.get('lr')}\")"
   ]
  },
  {
   "cell_type": "code",
   "execution_count": 20,
   "id": "2e129d8c",
   "metadata": {},
   "outputs": [
    {
     "name": "stdout",
     "output_type": "stream",
     "text": [
      "Epoch 1/20\n",
      "450/450 [==============================] - 269s 586ms/step - loss: 0.1150 - accuracy: 0.9567 - val_loss: 0.0249 - val_accuracy: 0.9929\n",
      "Epoch 2/20\n",
      "450/450 [==============================] - 265s 589ms/step - loss: 0.0332 - accuracy: 0.9902 - val_loss: 0.0143 - val_accuracy: 0.9961\n",
      "Epoch 3/20\n",
      "450/450 [==============================] - 263s 585ms/step - loss: 0.0240 - accuracy: 0.9926 - val_loss: 0.0074 - val_accuracy: 0.9982\n",
      "Epoch 4/20\n",
      "450/450 [==============================] - 264s 586ms/step - loss: 0.0152 - accuracy: 0.9950 - val_loss: 0.0053 - val_accuracy: 0.9982\n",
      "Epoch 5/20\n",
      "450/450 [==============================] - 267s 593ms/step - loss: 0.0140 - accuracy: 0.9960 - val_loss: 0.0052 - val_accuracy: 0.9984\n",
      "Epoch 6/20\n",
      "450/450 [==============================] - 265s 588ms/step - loss: 0.0137 - accuracy: 0.9952 - val_loss: 0.0048 - val_accuracy: 0.9982\n",
      "Epoch 7/20\n",
      "450/450 [==============================] - 267s 593ms/step - loss: 0.0118 - accuracy: 0.9960 - val_loss: 0.0062 - val_accuracy: 0.9976\n",
      "Epoch 8/20\n",
      "450/450 [==============================] - 268s 596ms/step - loss: 0.0050 - accuracy: 0.9983 - val_loss: 0.0022 - val_accuracy: 0.9995\n",
      "Epoch 9/20\n",
      "450/450 [==============================] - 347s 771ms/step - loss: 0.0066 - accuracy: 0.9981 - val_loss: 0.0033 - val_accuracy: 0.9994\n",
      "Epoch 10/20\n",
      "450/450 [==============================] - 355s 790ms/step - loss: 0.0074 - accuracy: 0.9974 - val_loss: 0.0037 - val_accuracy: 0.9990\n",
      "Epoch 11/20\n",
      "450/450 [==============================] - 274s 609ms/step - loss: 0.0080 - accuracy: 0.9973 - val_loss: 0.0052 - val_accuracy: 0.9984\n",
      "161/161 [==============================] - 69s 421ms/step\n",
      "\n",
      "--------------- Evaluation ---------------\n",
      "Accuracy: 1.0\n",
      "Precision: 1.0\n",
      "Recall: 1.0\n",
      "F1 Score: 1.0\n",
      "ROC AUC: 1.0\n",
      "\n",
      "Classification Report: \n",
      "                              precision    recall  f1-score   support\n",
      "\n",
      "0 -  Negative (No Pathology)       1.00      1.00      1.00      2697\n",
      "    1 - Positive (Pathology)       1.00      1.00      1.00      2440\n",
      "\n",
      "                    accuracy                           1.00      5137\n",
      "                   macro avg       1.00      1.00      1.00      5137\n",
      "                weighted avg       1.00      1.00      1.00      5137\n",
      "\n",
      "\n",
      "--------------- Visual Evaluation ---------------\n"
     ]
    },
    {
     "data": {
      "image/png": "[encoded data removed]",
      "text/plain": [
       "<Figure size 1008x360 with 2 Axes>"
      ]
     },
     "metadata": {
      "needs_background": "light"
     },
     "output_type": "display_data"
    }
   ],
   "source": [
    "# Build Model with Best Hyperparameters\n",
    "best_model = tuner.hypermodel.build(best_hps)\n",
    "\n",
    "# Train Model\n",
    "history = best_model.fit(X_train, y_train, epochs=20, validation_split=0.3, callbacks=[callback])\n",
    "\n",
    "# Evaluate Model on Test Data\n",
    "pred = best_model.predict(X_test)\n",
    "y_pred = np.argmax(pred, axis=1)\n",
    "\n",
    "results = evaluate(y_test, y_pred, X_train, y_train)\n",
    "model_results['EfficientNetV2B0 Tuned'] = results"
   ]
  },
  {
   "cell_type": "markdown",
   "id": "ba37d5f3",
   "metadata": {},
   "source": [
    "## DenseNet121"
   ]
  },
  {
   "cell_type": "code",
   "execution_count": 21,
   "id": "637e8239",
   "metadata": {},
   "outputs": [
    {
     "name": "stdout",
     "output_type": "stream",
     "text": [
      "Reloading Tuner from tuning_results\\hyperparameter_tuning\\tuner0.json\n",
      "Best Hyperparameters: units=64, dropout=0.2, optimizer=adam, learning rate=0.001\n"
     ]
    }
   ],
   "source": [
    "# Define Tuner\n",
    "tuner = kt.RandomSearch(\n",
    "    lambda hp: build_model(hp, DenseNet121),\n",
    "    objective='val_accuracy',\n",
    "    max_trials=5,  # Number of different hyperparameter combinations to try\n",
    "    executions_per_trial=1,  # Number of times each model is trained\n",
    "    directory='tuning_results',  \n",
    "    project_name='hyperparameter_tuning'\n",
    ")\n",
    "\n",
    "# Stop early if no improvement in 3 epochs\n",
    "callback = EarlyStopping(monitor='val_loss', patience=3, restore_best_weights=True)\n",
    "\n",
    "# Start Hyperparameter Search\n",
    "tuner.search(X_train, y_train, epochs=10, validation_split=0.3, callbacks=[callback])\n",
    "\n",
    "# Get Best Hyperparameters\n",
    "best_hps = tuner.get_best_hyperparameters(num_trials=1)[0]\n",
    "\n",
    "print(f\"Best Hyperparameters: units={best_hps.get('units')}, dropout={best_hps.get('dropout')}, \"\n",
    "      f\"optimizer={best_hps.get('optimizer')}, learning rate={best_hps.get('lr')}\")"
   ]
  },
  {
   "cell_type": "code",
   "execution_count": 22,
   "id": "dc3fbb40",
   "metadata": {},
   "outputs": [
    {
     "name": "stdout",
     "output_type": "stream",
     "text": [
      "Epoch 1/20\n",
      "450/450 [==============================] - 756s 2s/step - loss: 0.3611 - accuracy: 0.8438 - val_loss: 0.1723 - val_accuracy: 0.9405\n",
      "Epoch 2/20\n",
      "450/450 [==============================] - 746s 2s/step - loss: 0.1754 - accuracy: 0.9356 - val_loss: 0.1322 - val_accuracy: 0.9568\n",
      "Epoch 3/20\n",
      "450/450 [==============================] - 748s 2s/step - loss: 0.1253 - accuracy: 0.9557 - val_loss: 0.1024 - val_accuracy: 0.9603\n",
      "Epoch 4/20\n",
      "450/450 [==============================] - 745s 2s/step - loss: 0.0914 - accuracy: 0.9683 - val_loss: 0.0687 - val_accuracy: 0.9763\n",
      "Epoch 5/20\n",
      "450/450 [==============================] - 744s 2s/step - loss: 0.0753 - accuracy: 0.9736 - val_loss: 0.0542 - val_accuracy: 0.9828\n",
      "Epoch 6/20\n",
      "450/450 [==============================] - 742s 2s/step - loss: 0.0682 - accuracy: 0.9760 - val_loss: 0.0436 - val_accuracy: 0.9891\n",
      "Epoch 7/20\n",
      "450/450 [==============================] - 742s 2s/step - loss: 0.0545 - accuracy: 0.9809 - val_loss: 0.0354 - val_accuracy: 0.9872\n",
      "Epoch 8/20\n",
      "450/450 [==============================] - 742s 2s/step - loss: 0.0575 - accuracy: 0.9787 - val_loss: 0.0306 - val_accuracy: 0.9912\n",
      "Epoch 9/20\n",
      "450/450 [==============================] - 744s 2s/step - loss: 0.0620 - accuracy: 0.9792 - val_loss: 0.0341 - val_accuracy: 0.9890\n",
      "Epoch 10/20\n",
      "450/450 [==============================] - 744s 2s/step - loss: 0.0500 - accuracy: 0.9819 - val_loss: 0.0522 - val_accuracy: 0.9818\n",
      "Epoch 11/20\n",
      "450/450 [==============================] - 744s 2s/step - loss: 0.0482 - accuracy: 0.9821 - val_loss: 0.0694 - val_accuracy: 0.9718\n",
      "161/161 [==============================] - 187s 1s/step\n",
      "\n",
      "--------------- Evaluation ---------------\n",
      "Accuracy: 0.987\n",
      "Precision: 0.984\n",
      "Recall: 0.989\n",
      "F1 Score: 0.986\n",
      "ROC AUC: 0.987\n",
      "\n",
      "Classification Report: \n",
      "                              precision    recall  f1-score   support\n",
      "\n",
      "0 -  Negative (No Pathology)       0.99      0.99      0.99      2697\n",
      "    1 - Positive (Pathology)       0.98      0.99      0.99      2440\n",
      "\n",
      "                    accuracy                           0.99      5137\n",
      "                   macro avg       0.99      0.99      0.99      5137\n",
      "                weighted avg       0.99      0.99      0.99      5137\n",
      "\n",
      "\n",
      "--------------- Visual Evaluation ---------------\n"
     ]
    },
    {
     "data": {
      "image/png": "[encoded data removed]",
      "text/plain": [
       "<Figure size 1008x360 with 2 Axes>"
      ]
     },
     "metadata": {
      "needs_background": "light"
     },
     "output_type": "display_data"
    }
   ],
   "source": [
    "# Build Model with Best Hyperparameters\n",
    "best_model = tuner.hypermodel.build(best_hps)\n",
    "\n",
    "# Train Model\n",
    "history = best_model.fit(X_train, y_train, epochs=20, validation_split=0.3, callbacks=[callback])\n",
    "\n",
    "# Evaluate Model on Test Data\n",
    "pred = best_model.predict(X_test)\n",
    "y_pred = np.argmax(pred, axis=1)\n",
    "\n",
    "results = evaluate(y_test, y_pred, X_train, y_train)\n",
    "model_results['DenseNet121 Tuned'] = results"
   ]
  },
  {
   "cell_type": "markdown",
   "id": "52aff9ce",
   "metadata": {},
   "source": [
    "##  ResNet50"
   ]
  },
  {
   "cell_type": "code",
   "execution_count": 23,
   "id": "fef312c7",
   "metadata": {},
   "outputs": [
    {
     "name": "stdout",
     "output_type": "stream",
     "text": [
      "Reloading Tuner from tuning_results\\hyperparameter_tuning\\tuner0.json\n",
      "Best Hyperparameters: units=64, dropout=0.2, optimizer=adam, learning rate=0.001\n"
     ]
    }
   ],
   "source": [
    "# Define Tuner\n",
    "tuner = kt.RandomSearch(\n",
    "    lambda hp: build_model(hp, ResNet50),\n",
    "    objective='val_accuracy',\n",
    "    max_trials=5,  # Number of different hyperparameter combinations to try\n",
    "    executions_per_trial=1,  # Number of times each model is trained\n",
    "    directory='tuning_results',  \n",
    "    project_name='hyperparameter_tuning'\n",
    ")\n",
    "\n",
    "# Stop early if no improvement in 3 epochs\n",
    "callback = EarlyStopping(monitor='val_loss', patience=3, restore_best_weights=True)\n",
    "\n",
    "# Start Hyperparameter Search\n",
    "tuner.search(X_train, y_train, epochs=10, validation_split=0.3, callbacks=[callback])\n",
    "\n",
    "# Get Best Hyperparameters\n",
    "best_hps = tuner.get_best_hyperparameters(num_trials=1)[0]\n",
    "\n",
    "print(f\"Best Hyperparameters: units={best_hps.get('units')}, dropout={best_hps.get('dropout')}, \"\n",
    "      f\"optimizer={best_hps.get('optimizer')}, learning rate={best_hps.get('lr')}\")"
   ]
  },
  {
   "cell_type": "code",
   "execution_count": 24,
   "id": "d07b3534",
   "metadata": {},
   "outputs": [
    {
     "name": "stdout",
     "output_type": "stream",
     "text": [
      "Epoch 1/20\n",
      "450/450 [==============================] - 681s 2s/step - loss: 0.1214 - accuracy: 0.9539 - val_loss: 0.0247 - val_accuracy: 0.9929\n",
      "Epoch 2/20\n",
      "450/450 [==============================] - 683s 2s/step - loss: 0.0317 - accuracy: 0.9896 - val_loss: 0.0219 - val_accuracy: 0.9927\n",
      "Epoch 3/20\n",
      "450/450 [==============================] - 684s 2s/step - loss: 0.0236 - accuracy: 0.9930 - val_loss: 0.0135 - val_accuracy: 0.9956\n",
      "Epoch 4/20\n",
      "450/450 [==============================] - 686s 2s/step - loss: 0.0113 - accuracy: 0.9969 - val_loss: 0.0073 - val_accuracy: 0.9976\n",
      "Epoch 5/20\n",
      "450/450 [==============================] - 688s 2s/step - loss: 0.0148 - accuracy: 0.9949 - val_loss: 0.0142 - val_accuracy: 0.9938\n",
      "Epoch 6/20\n",
      "450/450 [==============================] - 689s 2s/step - loss: 0.0095 - accuracy: 0.9972 - val_loss: 0.0085 - val_accuracy: 0.9977\n",
      "Epoch 7/20\n",
      "450/450 [==============================] - 690s 2s/step - loss: 0.0143 - accuracy: 0.9949 - val_loss: 0.0155 - val_accuracy: 0.9956\n",
      "161/161 [==============================] - 174s 1s/step\n",
      "\n",
      "--------------- Evaluation ---------------\n",
      "Accuracy: 0.998\n",
      "Precision: 0.998\n",
      "Recall: 0.998\n",
      "F1 Score: 0.998\n",
      "ROC AUC: 0.998\n",
      "\n",
      "Classification Report: \n",
      "                              precision    recall  f1-score   support\n",
      "\n",
      "0 -  Negative (No Pathology)       1.00      1.00      1.00      2697\n",
      "    1 - Positive (Pathology)       1.00      1.00      1.00      2440\n",
      "\n",
      "                    accuracy                           1.00      5137\n",
      "                   macro avg       1.00      1.00      1.00      5137\n",
      "                weighted avg       1.00      1.00      1.00      5137\n",
      "\n",
      "\n",
      "--------------- Visual Evaluation ---------------\n"
     ]
    },
    {
     "data": {
      "image/png": "[encoded data removed]",
      "text/plain": [
       "<Figure size 1008x360 with 2 Axes>"
      ]
     },
     "metadata": {
      "needs_background": "light"
     },
     "output_type": "display_data"
    }
   ],
   "source": [
    "# Build Model with Best Hyperparameters\n",
    "best_model = tuner.hypermodel.build(best_hps)\n",
    "\n",
    "# Train Model\n",
    "history = best_model.fit(X_train, y_train, epochs=20, validation_split=0.3, callbacks=[callback])\n",
    "\n",
    "# Evaluate Model on Test Data\n",
    "pred = best_model.predict(X_test)\n",
    "y_pred = np.argmax(pred, axis=1)\n",
    "\n",
    "results = evaluate(y_test, y_pred, X_train, y_train)\n",
    "model_results['ResNet50 Tuned'] = results"
   ]
  },
  {
   "cell_type": "markdown",
   "id": "211e0132",
   "metadata": {},
   "source": [
    "## ResNet50V2 "
   ]
  },
  {
   "cell_type": "code",
   "execution_count": 25,
   "id": "4b7e8420",
   "metadata": {},
   "outputs": [
    {
     "name": "stdout",
     "output_type": "stream",
     "text": [
      "Reloading Tuner from tuning_results\\hyperparameter_tuning\\tuner0.json\n",
      "Best Hyperparameters: units=64, dropout=0.2, optimizer=adam, learning rate=0.001\n"
     ]
    }
   ],
   "source": [
    "# Define Tuner\n",
    "tuner = kt.RandomSearch(\n",
    "    lambda hp: build_model(hp, ResNet50V2),\n",
    "    objective='val_accuracy',\n",
    "    max_trials=5,  # Number of different hyperparameter combinations to try\n",
    "    executions_per_trial=1,  # Number of times each model is trained\n",
    "    directory='tuning_results',  \n",
    "    project_name='hyperparameter_tuning'\n",
    ")\n",
    "\n",
    "# Stop early if no improvement in 3 epochs\n",
    "callback = EarlyStopping(monitor='val_loss', patience=3, restore_best_weights=True)\n",
    "\n",
    "# Start Hyperparameter Search\n",
    "tuner.search(X_train, y_train, epochs=10, validation_split=0.3, callbacks=[callback])\n",
    "\n",
    "# Get Best Hyperparameters\n",
    "best_hps = tuner.get_best_hyperparameters(num_trials=1)[0]\n",
    "\n",
    "print(f\"Best Hyperparameters: units={best_hps.get('units')}, dropout={best_hps.get('dropout')}, \"\n",
    "      f\"optimizer={best_hps.get('optimizer')}, learning rate={best_hps.get('lr')}\")"
   ]
  },
  {
   "cell_type": "code",
   "execution_count": 26,
   "id": "771f3779",
   "metadata": {},
   "outputs": [
    {
     "name": "stdout",
     "output_type": "stream",
     "text": [
      "Epoch 1/20\n",
      "450/450 [==============================] - 547s 1s/step - loss: 2.1608 - accuracy: 0.6296 - val_loss: 0.5922 - val_accuracy: 0.7145\n",
      "Epoch 2/20\n",
      "450/450 [==============================] - 543s 1s/step - loss: 0.5925 - accuracy: 0.6742 - val_loss: 0.6523 - val_accuracy: 0.6033\n",
      "Epoch 3/20\n",
      "450/450 [==============================] - 545s 1s/step - loss: 0.5376 - accuracy: 0.7238 - val_loss: 0.5155 - val_accuracy: 0.7852\n",
      "Epoch 4/20\n",
      "450/450 [==============================] - 546s 1s/step - loss: 0.6941 - accuracy: 0.5304 - val_loss: 0.6883 - val_accuracy: 0.5196\n",
      "Epoch 5/20\n",
      "450/450 [==============================] - 545s 1s/step - loss: 0.6847 - accuracy: 0.5259 - val_loss: 0.6876 - val_accuracy: 0.5196\n",
      "Epoch 6/20\n",
      "450/450 [==============================] - 543s 1s/step - loss: 0.6804 - accuracy: 0.5242 - val_loss: 0.6408 - val_accuracy: 0.5196\n",
      "161/161 [==============================] - 136s 841ms/step\n",
      "\n",
      "--------------- Evaluation ---------------\n",
      "Accuracy: 0.775\n",
      "Precision: 0.989\n",
      "Recall: 0.532\n",
      "F1 Score: 0.692\n",
      "ROC AUC: 0.763\n",
      "\n",
      "Classification Report: \n",
      "                              precision    recall  f1-score   support\n",
      "\n",
      "0 -  Negative (No Pathology)       0.70      0.99      0.82      2697\n",
      "    1 - Positive (Pathology)       0.99      0.53      0.69      2440\n",
      "\n",
      "                    accuracy                           0.77      5137\n",
      "                   macro avg       0.84      0.76      0.76      5137\n",
      "                weighted avg       0.84      0.77      0.76      5137\n",
      "\n",
      "\n",
      "--------------- Visual Evaluation ---------------\n"
     ]
    },
    {
     "data": {
      "image/png": "[encoded data removed]",
      "text/plain": [
       "<Figure size 1008x360 with 2 Axes>"
      ]
     },
     "metadata": {
      "needs_background": "light"
     },
     "output_type": "display_data"
    }
   ],
   "source": [
    "# Build Model with Best Hyperparameters\n",
    "best_model = tuner.hypermodel.build(best_hps)\n",
    "\n",
    "# Train Model\n",
    "history = best_model.fit(X_train, y_train, epochs=20, validation_split=0.3, callbacks=[callback])\n",
    "\n",
    "# Evaluate Model on Test Data\n",
    "pred = best_model.predict(X_test)\n",
    "y_pred = np.argmax(pred, axis=1)\n",
    "\n",
    "results = evaluate(y_test, y_pred, X_train, y_train)\n",
    "model_results['ResNet50V2 Tuned'] = results"
   ]
  },
  {
   "cell_type": "markdown",
   "id": "f818842d",
   "metadata": {},
   "source": [
    "## InceptionV3"
   ]
  },
  {
   "cell_type": "code",
   "execution_count": 27,
   "id": "929e69d5",
   "metadata": {},
   "outputs": [
    {
     "name": "stdout",
     "output_type": "stream",
     "text": [
      "Reloading Tuner from tuning_results\\hyperparameter_tuning\\tuner0.json\n",
      "Best Hyperparameters: units=64, dropout=0.2, optimizer=adam, learning rate=0.001\n"
     ]
    }
   ],
   "source": [
    "# Define Tuner\n",
    "tuner = kt.RandomSearch(\n",
    "    lambda hp: build_model(hp, InceptionV3),\n",
    "    objective='val_accuracy',\n",
    "    max_trials=5,  # Number of different hyperparameter combinations to try\n",
    "    executions_per_trial=1,  # Number of times each model is trained\n",
    "    directory='tuning_results',  \n",
    "    project_name='hyperparameter_tuning'\n",
    ")\n",
    "\n",
    "# Stop early if no improvement in 3 epochs\n",
    "callback = EarlyStopping(monitor='val_loss', patience=3, restore_best_weights=True)\n",
    "\n",
    "# Start Hyperparameter Search\n",
    "tuner.search(X_train, y_train, epochs=10, validation_split=0.3, callbacks=[callback])\n",
    "\n",
    "# Get Best Hyperparameters\n",
    "best_hps = tuner.get_best_hyperparameters(num_trials=1)[0]\n",
    "\n",
    "print(f\"Best Hyperparameters: units={best_hps.get('units')}, dropout={best_hps.get('dropout')}, \"\n",
    "      f\"optimizer={best_hps.get('optimizer')}, learning rate={best_hps.get('lr')}\")"
   ]
  },
  {
   "cell_type": "code",
   "execution_count": 28,
   "id": "0056c606",
   "metadata": {},
   "outputs": [
    {
     "name": "stdout",
     "output_type": "stream",
     "text": [
      "Epoch 1/20\n",
      "450/450 [==============================] - 498s 1s/step - loss: 0.9267 - accuracy: 0.7422 - val_loss: 0.4136 - val_accuracy: 0.8378\n",
      "Epoch 2/20\n",
      "450/450 [==============================] - 484s 1s/step - loss: 0.3844 - accuracy: 0.8152 - val_loss: 0.3172 - val_accuracy: 0.8775\n",
      "Epoch 3/20\n",
      "450/450 [==============================] - 495s 1s/step - loss: 0.3808 - accuracy: 0.7996 - val_loss: 0.2758 - val_accuracy: 0.8881\n",
      "Epoch 4/20\n",
      "450/450 [==============================] - 482s 1s/step - loss: 0.3327 - accuracy: 0.8251 - val_loss: 0.2458 - val_accuracy: 0.9158\n",
      "Epoch 5/20\n",
      "450/450 [==============================] - 496s 1s/step - loss: 0.3207 - accuracy: 0.8351 - val_loss: 0.2007 - val_accuracy: 0.9234\n",
      "Epoch 6/20\n",
      "450/450 [==============================] - 482s 1s/step - loss: 0.3044 - accuracy: 0.8419 - val_loss: 0.2561 - val_accuracy: 0.9126\n",
      "Epoch 7/20\n",
      "450/450 [==============================] - 481s 1s/step - loss: 0.2939 - accuracy: 0.8499 - val_loss: 0.2043 - val_accuracy: 0.9142\n",
      "Epoch 8/20\n",
      "450/450 [==============================] - 481s 1s/step - loss: 0.2626 - accuracy: 0.8714 - val_loss: 0.1679 - val_accuracy: 0.9351\n",
      "Epoch 9/20\n",
      "450/450 [==============================] - 496s 1s/step - loss: 0.2630 - accuracy: 0.8647 - val_loss: 0.1624 - val_accuracy: 0.9414\n",
      "Epoch 10/20\n",
      "450/450 [==============================] - 482s 1s/step - loss: 0.2603 - accuracy: 0.8725 - val_loss: 0.1705 - val_accuracy: 0.9377\n",
      "Epoch 11/20\n",
      "450/450 [==============================] - 483s 1s/step - loss: 0.2438 - accuracy: 0.8806 - val_loss: 0.3242 - val_accuracy: 0.8266\n",
      "Epoch 12/20\n",
      "450/450 [==============================] - 482s 1s/step - loss: 0.3280 - accuracy: 0.8092 - val_loss: 0.2520 - val_accuracy: 0.8342\n",
      "161/161 [==============================] - 127s 784ms/step\n",
      "\n",
      "--------------- Evaluation ---------------\n",
      "Accuracy: 0.942\n",
      "Precision: 0.909\n",
      "Recall: 0.976\n",
      "F1 Score: 0.942\n",
      "ROC AUC: 0.944\n",
      "\n",
      "Classification Report: \n",
      "                              precision    recall  f1-score   support\n",
      "\n",
      "0 -  Negative (No Pathology)       0.98      0.91      0.94      2697\n",
      "    1 - Positive (Pathology)       0.91      0.98      0.94      2440\n",
      "\n",
      "                    accuracy                           0.94      5137\n",
      "                   macro avg       0.94      0.94      0.94      5137\n",
      "                weighted avg       0.94      0.94      0.94      5137\n",
      "\n",
      "\n",
      "--------------- Visual Evaluation ---------------\n"
     ]
    },
    {
     "data": {
      "image/png": "[encoded data removed]",
      "text/plain": [
       "<Figure size 1008x360 with 2 Axes>"
      ]
     },
     "metadata": {
      "needs_background": "light"
     },
     "output_type": "display_data"
    }
   ],
   "source": [
    "# Build Model with Best Hyperparameters\n",
    "best_model = tuner.hypermodel.build(best_hps)\n",
    "\n",
    "# Train Model\n",
    "history = best_model.fit(X_train, y_train, epochs=20, validation_split=0.3, callbacks=[callback])\n",
    "\n",
    "# Evaluate Model on Test Data\n",
    "pred = best_model.predict(X_test)\n",
    "y_pred = np.argmax(pred, axis=1)\n",
    "\n",
    "results = evaluate(y_test, y_pred, X_train, y_train)\n",
    "model_results['InceptionV3 Tuned'] = results"
   ]
  },
  {
   "cell_type": "markdown",
   "id": "5f97be4b",
   "metadata": {},
   "source": [
    "## Xception "
   ]
  },
  {
   "cell_type": "code",
   "execution_count": 29,
   "id": "41a11b86",
   "metadata": {},
   "outputs": [
    {
     "name": "stdout",
     "output_type": "stream",
     "text": [
      "Reloading Tuner from tuning_results\\hyperparameter_tuning\\tuner0.json\n",
      "Best Hyperparameters: units=64, dropout=0.2, optimizer=adam, learning rate=0.001\n"
     ]
    }
   ],
   "source": [
    "# Define Tuner\n",
    "tuner = kt.RandomSearch(\n",
    "    lambda hp: build_model(hp, Xception),\n",
    "    objective='val_accuracy',\n",
    "    max_trials=5,  # Number of different hyperparameter combinations to try\n",
    "    executions_per_trial=1,  # Number of times each model is trained\n",
    "    directory='tuning_results',  \n",
    "    project_name='hyperparameter_tuning'\n",
    ")\n",
    "\n",
    "# Stop early if no improvement in 3 epochs\n",
    "callback = EarlyStopping(monitor='val_loss', patience=3, restore_best_weights=True)\n",
    "\n",
    "# Start Hyperparameter Search\n",
    "tuner.search(X_train, y_train, epochs=10, validation_split=0.3, callbacks=[callback])\n",
    "\n",
    "# Get Best Hyperparameters\n",
    "best_hps = tuner.get_best_hyperparameters(num_trials=1)[0]\n",
    "\n",
    "print(f\"Best Hyperparameters: units={best_hps.get('units')}, dropout={best_hps.get('dropout')}, \"\n",
    "      f\"optimizer={best_hps.get('optimizer')}, learning rate={best_hps.get('lr')}\")"
   ]
  },
  {
   "cell_type": "code",
   "execution_count": 30,
   "id": "8353d2f8",
   "metadata": {},
   "outputs": [
    {
     "name": "stdout",
     "output_type": "stream",
     "text": [
      "Epoch 1/20\n",
      "450/450 [==============================] - 679s 2s/step - loss: 0.5685 - accuracy: 0.8052 - val_loss: 0.2607 - val_accuracy: 0.8921\n",
      "Epoch 2/20\n",
      "450/450 [==============================] - 588s 1s/step - loss: 0.2599 - accuracy: 0.8911 - val_loss: 0.2431 - val_accuracy: 0.9035\n",
      "Epoch 3/20\n",
      "450/450 [==============================] - 587s 1s/step - loss: 0.2009 - accuracy: 0.9138 - val_loss: 0.2405 - val_accuracy: 0.8923\n",
      "Epoch 4/20\n",
      "450/450 [==============================] - 601s 1s/step - loss: 0.2007 - accuracy: 0.9161 - val_loss: 0.1638 - val_accuracy: 0.9374\n",
      "Epoch 5/20\n",
      "450/450 [==============================] - 592s 1s/step - loss: 0.1746 - accuracy: 0.9256 - val_loss: 0.1584 - val_accuracy: 0.9431\n",
      "Epoch 6/20\n",
      "450/450 [==============================] - 588s 1s/step - loss: 0.1539 - accuracy: 0.9369 - val_loss: 0.1846 - val_accuracy: 0.9213\n",
      "Epoch 7/20\n",
      "450/450 [==============================] - 589s 1s/step - loss: 0.1527 - accuracy: 0.9367 - val_loss: 0.2178 - val_accuracy: 0.9225\n",
      "Epoch 8/20\n",
      "450/450 [==============================] - 605s 1s/step - loss: 0.1501 - accuracy: 0.9349 - val_loss: 0.1196 - val_accuracy: 0.9559\n",
      "Epoch 9/20\n",
      "450/450 [==============================] - 601s 1s/step - loss: 0.1314 - accuracy: 0.9463 - val_loss: 0.0988 - val_accuracy: 0.9641\n",
      "Epoch 10/20\n",
      "450/450 [==============================] - 604s 1s/step - loss: 0.1181 - accuracy: 0.9512 - val_loss: 0.0854 - val_accuracy: 0.9710\n",
      "Epoch 11/20\n",
      "450/450 [==============================] - 598s 1s/step - loss: 0.1077 - accuracy: 0.9556 - val_loss: 0.1206 - val_accuracy: 0.9495\n",
      "Epoch 12/20\n",
      "450/450 [==============================] - 596s 1s/step - loss: 0.1146 - accuracy: 0.9520 - val_loss: 0.0792 - val_accuracy: 0.9731\n",
      "Epoch 13/20\n",
      "450/450 [==============================] - 594s 1s/step - loss: 0.1116 - accuracy: 0.9526 - val_loss: 0.1238 - val_accuracy: 0.9562\n",
      "Epoch 14/20\n",
      "450/450 [==============================] - 592s 1s/step - loss: 0.0943 - accuracy: 0.9586 - val_loss: 0.0782 - val_accuracy: 0.9736\n",
      "Epoch 15/20\n",
      "450/450 [==============================] - 601s 1s/step - loss: 0.1015 - accuracy: 0.9563 - val_loss: 0.0993 - val_accuracy: 0.9653\n",
      "Epoch 16/20\n",
      "450/450 [==============================] - 594s 1s/step - loss: 0.1115 - accuracy: 0.9536 - val_loss: 0.1017 - val_accuracy: 0.9620\n",
      "Epoch 17/20\n",
      "450/450 [==============================] - 592s 1s/step - loss: 0.0934 - accuracy: 0.9584 - val_loss: 0.0720 - val_accuracy: 0.9766\n",
      "Epoch 18/20\n",
      "450/450 [==============================] - 603s 1s/step - loss: 0.0926 - accuracy: 0.9597 - val_loss: 0.0874 - val_accuracy: 0.9692\n",
      "Epoch 19/20\n",
      "450/450 [==============================] - 590s 1s/step - loss: 0.0975 - accuracy: 0.9593 - val_loss: 0.0582 - val_accuracy: 0.9817\n",
      "Epoch 20/20\n",
      "450/450 [==============================] - 594s 1s/step - loss: 0.0737 - accuracy: 0.9682 - val_loss: 0.0685 - val_accuracy: 0.9784\n",
      "161/161 [==============================] - 146s 905ms/step\n",
      "\n",
      "--------------- Evaluation ---------------\n",
      "Accuracy: 0.979\n",
      "Precision: 0.986\n",
      "Recall: 0.968\n",
      "F1 Score: 0.977\n",
      "ROC AUC: 0.978\n",
      "\n",
      "Classification Report: \n",
      "                              precision    recall  f1-score   support\n",
      "\n",
      "0 -  Negative (No Pathology)       0.97      0.99      0.98      2697\n",
      "    1 - Positive (Pathology)       0.99      0.97      0.98      2440\n",
      "\n",
      "                    accuracy                           0.98      5137\n",
      "                   macro avg       0.98      0.98      0.98      5137\n",
      "                weighted avg       0.98      0.98      0.98      5137\n",
      "\n",
      "\n",
      "--------------- Visual Evaluation ---------------\n"
     ]
    },
    {
     "data": {
      "image/png": "[encoded data removed]",
      "text/plain": [
       "<Figure size 1008x360 with 2 Axes>"
      ]
     },
     "metadata": {
      "needs_background": "light"
     },
     "output_type": "display_data"
    }
   ],
   "source": [
    "# Build Model with Best Hyperparameters\n",
    "best_model = tuner.hypermodel.build(best_hps)\n",
    "\n",
    "# Train Model\n",
    "history = best_model.fit(X_train, y_train, epochs=20, validation_split=0.3, callbacks=[callback])\n",
    "\n",
    "# Evaluate Model on Test Data\n",
    "pred = best_model.predict(X_test)\n",
    "y_pred = np.argmax(pred, axis=1)\n",
    "\n",
    "results = evaluate(y_test, y_pred, X_train, y_train)\n",
    "model_results['Xception Tuned'] = results"
   ]
  },
  {
   "cell_type": "markdown",
   "id": "d0dc2749",
   "metadata": {},
   "source": [
    "## InceptionResNetV2 "
   ]
  },
  {
   "cell_type": "code",
   "execution_count": 31,
   "id": "e3ab8489",
   "metadata": {},
   "outputs": [
    {
     "name": "stdout",
     "output_type": "stream",
     "text": [
      "Reloading Tuner from tuning_results\\hyperparameter_tuning\\tuner0.json\n",
      "Best Hyperparameters: units=64, dropout=0.2, optimizer=adam, learning rate=0.001\n"
     ]
    }
   ],
   "source": [
    "# Define Tuner\n",
    "tuner = kt.RandomSearch(\n",
    "    lambda hp: build_model(hp, InceptionResNetV2),\n",
    "    objective='val_accuracy',\n",
    "    max_trials=5,  # Number of different hyperparameter combinations to try\n",
    "    executions_per_trial=1,  # Number of times each model is trained\n",
    "    directory='tuning_results',  \n",
    "    project_name='hyperparameter_tuning'\n",
    ")\n",
    "\n",
    "# Stop early if no improvement in 3 epochs\n",
    "callback = EarlyStopping(monitor='val_loss', patience=3, restore_best_weights=True)\n",
    "\n",
    "# Start Hyperparameter Search\n",
    "tuner.search(X_train, y_train, epochs=10, validation_split=0.3, callbacks=[callback])\n",
    "\n",
    "# Get Best Hyperparameters\n",
    "best_hps = tuner.get_best_hyperparameters(num_trials=1)[0]\n",
    "\n",
    "print(f\"Best Hyperparameters: units={best_hps.get('units')}, dropout={best_hps.get('dropout')}, \"\n",
    "      f\"optimizer={best_hps.get('optimizer')}, learning rate={best_hps.get('lr')}\")"
   ]
  },
  {
   "cell_type": "code",
   "execution_count": 32,
   "id": "22393dfb",
   "metadata": {},
   "outputs": [
    {
     "name": "stdout",
     "output_type": "stream",
     "text": [
      "Epoch 1/20\n",
      "450/450 [==============================] - 799s 2s/step - loss: 2.6678 - accuracy: 0.5233 - val_loss: 0.6924 - val_accuracy: 0.5196\n",
      "Epoch 2/20\n",
      "450/450 [==============================] - 814s 2s/step - loss: 0.7032 - accuracy: 0.5241 - val_loss: 0.6924 - val_accuracy: 0.5196\n",
      "Epoch 3/20\n",
      "450/450 [==============================] - 816s 2s/step - loss: 0.6920 - accuracy: 0.5242 - val_loss: 0.6924 - val_accuracy: 0.5196\n",
      "Epoch 4/20\n",
      "450/450 [==============================] - 817s 2s/step - loss: 0.6920 - accuracy: 0.5242 - val_loss: 0.6924 - val_accuracy: 0.5196\n",
      "161/161 [==============================] - 208s 1s/step\n",
      "\n",
      "--------------- Evaluation ---------------\n",
      "Accuracy: 0.525\n",
      "Precision: 0.0\n",
      "Recall: 0.0\n",
      "F1 Score: 0.0\n",
      "ROC AUC: 0.5\n",
      "\n",
      "Classification Report: \n",
      "                              precision    recall  f1-score   support\n",
      "\n",
      "0 -  Negative (No Pathology)       0.53      1.00      0.69      2697\n",
      "    1 - Positive (Pathology)       0.00      0.00      0.00      2440\n",
      "\n",
      "                    accuracy                           0.53      5137\n",
      "                   macro avg       0.26      0.50      0.34      5137\n",
      "                weighted avg       0.28      0.53      0.36      5137\n",
      "\n",
      "\n",
      "--------------- Visual Evaluation ---------------\n"
     ]
    },
    {
     "data": {
      "image/png": "[encoded data removed]",
      "text/plain": [
       "<Figure size 1008x360 with 2 Axes>"
      ]
     },
     "metadata": {
      "needs_background": "light"
     },
     "output_type": "display_data"
    }
   ],
   "source": [
    "# Build Model with Best Hyperparameters\n",
    "best_model = tuner.hypermodel.build(best_hps)\n",
    "\n",
    "# Train Model\n",
    "history = best_model.fit(X_train, y_train, epochs=20, validation_split=0.3, callbacks=[callback])\n",
    "\n",
    "# Evaluate Model on Test Data\n",
    "pred = best_model.predict(X_test)\n",
    "y_pred = np.argmax(pred, axis=1)\n",
    "\n",
    "results = evaluate(y_test, y_pred, X_train, y_train)\n",
    "model_results['InceptionResNetV2 Tuned'] = results"
   ]
  },
  {
   "cell_type": "markdown",
   "id": "0e4b00c5",
   "metadata": {},
   "source": [
    "## VGG16 "
   ]
  },
  {
   "cell_type": "code",
   "execution_count": 33,
   "id": "0e44d5d5",
   "metadata": {},
   "outputs": [
    {
     "name": "stdout",
     "output_type": "stream",
     "text": [
      "Reloading Tuner from tuning_results\\hyperparameter_tuning\\tuner0.json\n",
      "Best Hyperparameters: units=64, dropout=0.2, optimizer=adam, learning rate=0.001\n"
     ]
    }
   ],
   "source": [
    "# Define Tuner\n",
    "tuner = kt.RandomSearch(\n",
    "    lambda hp: build_model(hp, VGG16),\n",
    "    objective='val_accuracy',\n",
    "    max_trials=5,  # Number of different hyperparameter combinations to try\n",
    "    executions_per_trial=1,  # Number of times each model is trained\n",
    "    directory='tuning_results',  \n",
    "    project_name='hyperparameter_tuning'\n",
    ")\n",
    "\n",
    "# Stop early if no improvement in 3 epochs\n",
    "callback = EarlyStopping(monitor='val_loss', patience=3, restore_best_weights=True)\n",
    "\n",
    "# Start Hyperparameter Search\n",
    "tuner.search(X_train, y_train, epochs=10, validation_split=0.3, callbacks=[callback])\n",
    "\n",
    "# Get Best Hyperparameters\n",
    "best_hps = tuner.get_best_hyperparameters(num_trials=1)[0]\n",
    "\n",
    "print(f\"Best Hyperparameters: units={best_hps.get('units')}, dropout={best_hps.get('dropout')}, \"\n",
    "      f\"optimizer={best_hps.get('optimizer')}, learning rate={best_hps.get('lr')}\")"
   ]
  },
  {
   "cell_type": "code",
   "execution_count": 34,
   "id": "6b203e5b",
   "metadata": {},
   "outputs": [
    {
     "name": "stdout",
     "output_type": "stream",
     "text": [
      "Epoch 1/20\n",
      "450/450 [==============================] - 1292s 3s/step - loss: 0.2386 - accuracy: 0.9272 - val_loss: 0.0413 - val_accuracy: 0.9880\n",
      "Epoch 2/20\n",
      "450/450 [==============================] - 2040s 5s/step - loss: 0.0435 - accuracy: 0.9857 - val_loss: 0.0227 - val_accuracy: 0.9938\n",
      "Epoch 3/20\n",
      "450/450 [==============================] - 2040s 5s/step - loss: 0.0256 - accuracy: 0.9930 - val_loss: 0.0160 - val_accuracy: 0.9959\n",
      "Epoch 4/20\n",
      "450/450 [==============================] - 2040s 5s/step - loss: 0.0146 - accuracy: 0.9953 - val_loss: 0.0098 - val_accuracy: 0.9963\n",
      "Epoch 5/20\n",
      "450/450 [==============================] - 2038s 5s/step - loss: 0.0157 - accuracy: 0.9953 - val_loss: 0.0129 - val_accuracy: 0.9961\n",
      "Epoch 6/20\n",
      "450/450 [==============================] - 2040s 5s/step - loss: 0.0114 - accuracy: 0.9965 - val_loss: 0.0054 - val_accuracy: 0.9981\n",
      "Epoch 7/20\n",
      "450/450 [==============================] - 2038s 5s/step - loss: 0.0106 - accuracy: 0.9970 - val_loss: 0.0076 - val_accuracy: 0.9968\n",
      "Epoch 8/20\n",
      "450/450 [==============================] - 2039s 5s/step - loss: 0.0039 - accuracy: 0.9992 - val_loss: 0.0045 - val_accuracy: 0.9982\n",
      "Epoch 9/20\n",
      "450/450 [==============================] - 2039s 5s/step - loss: 0.0040 - accuracy: 0.9989 - val_loss: 0.0096 - val_accuracy: 0.9972\n",
      "Epoch 10/20\n",
      "450/450 [==============================] - 2040s 5s/step - loss: 0.0167 - accuracy: 0.9944 - val_loss: 0.0084 - val_accuracy: 0.9974\n",
      "Epoch 11/20\n",
      "450/450 [==============================] - 2040s 5s/step - loss: 0.0086 - accuracy: 0.9975 - val_loss: 0.0051 - val_accuracy: 0.9979\n",
      "161/161 [==============================] - 530s 3s/step\n",
      "\n",
      "--------------- Evaluation ---------------\n",
      "Accuracy: 0.997\n",
      "Precision: 0.998\n",
      "Recall: 0.995\n",
      "F1 Score: 0.997\n",
      "ROC AUC: 0.997\n",
      "\n",
      "Classification Report: \n",
      "                              precision    recall  f1-score   support\n",
      "\n",
      "0 -  Negative (No Pathology)       1.00      1.00      1.00      2697\n",
      "    1 - Positive (Pathology)       1.00      1.00      1.00      2440\n",
      "\n",
      "                    accuracy                           1.00      5137\n",
      "                   macro avg       1.00      1.00      1.00      5137\n",
      "                weighted avg       1.00      1.00      1.00      5137\n",
      "\n",
      "\n",
      "--------------- Visual Evaluation ---------------\n"
     ]
    },
    {
     "data": {
      "image/png": "[encoded data removed]",
      "text/plain": [
       "<Figure size 1008x360 with 2 Axes>"
      ]
     },
     "metadata": {
      "needs_background": "light"
     },
     "output_type": "display_data"
    }
   ],
   "source": [
    "# Build Model with Best Hyperparameters\n",
    "best_model = tuner.hypermodel.build(best_hps)\n",
    "\n",
    "# Train Model\n",
    "history = best_model.fit(X_train, y_train, epochs=20, validation_split=0.3, callbacks=[callback])\n",
    "\n",
    "# Evaluate Model on Test Data\n",
    "pred = best_model.predict(X_test)\n",
    "y_pred = np.argmax(pred, axis=1)\n",
    "\n",
    "results = evaluate(y_test, y_pred, X_train, y_train)\n",
    "model_results['VGG16 Tuned'] = results"
   ]
  },
  {
   "cell_type": "markdown",
   "id": "6a635d3d",
   "metadata": {},
   "source": [
    "## Model Results "
   ]
  },
  {
   "cell_type": "code",
   "execution_count": 35,
   "id": "6be2d336",
   "metadata": {},
   "outputs": [
    {
     "data": {
      "text/html": [
       "<div>\n",
       "<style scoped>\n",
       "    .dataframe tbody tr th:only-of-type {\n",
       "        vertical-align: middle;\n",
       "    }\n",
       "\n",
       "    .dataframe tbody tr th {\n",
       "        vertical-align: top;\n",
       "    }\n",
       "\n",
       "    .dataframe thead th {\n",
       "        text-align: right;\n",
       "    }\n",
       "</style>\n",
       "<table border=\"1\" class=\"dataframe\">\n",
       "  <thead>\n",
       "    <tr style=\"text-align: right;\">\n",
       "      <th></th>\n",
       "      <th>Metrics</th>\n",
       "      <th>MobileNetV3 Small Tuned</th>\n",
       "      <th>MobileNetV3 Large Tuned</th>\n",
       "      <th>NASNetMobile Tuned</th>\n",
       "      <th>EfficientNetV2B0 Tuned</th>\n",
       "      <th>DenseNet121 Tuned</th>\n",
       "      <th>ResNet50 Tuned</th>\n",
       "      <th>ResNet50V2 Tuned</th>\n",
       "      <th>InceptionV3 Tuned</th>\n",
       "      <th>Xception Tuned</th>\n",
       "      <th>InceptionResNetV2 Tuned</th>\n",
       "      <th>VGG16 Tuned</th>\n",
       "    </tr>\n",
       "  </thead>\n",
       "  <tbody>\n",
       "    <tr>\n",
       "      <th>0</th>\n",
       "      <td>Accuracy</td>\n",
       "      <td>0.998637</td>\n",
       "      <td>0.999611</td>\n",
       "      <td>0.976640</td>\n",
       "      <td>0.999805</td>\n",
       "      <td>0.986957</td>\n",
       "      <td>0.998053</td>\n",
       "      <td>0.774771</td>\n",
       "      <td>0.942379</td>\n",
       "      <td>0.978587</td>\n",
       "      <td>0.525015</td>\n",
       "      <td>0.996691</td>\n",
       "    </tr>\n",
       "    <tr>\n",
       "      <th>1</th>\n",
       "      <td>Precision</td>\n",
       "      <td>0.999589</td>\n",
       "      <td>0.999590</td>\n",
       "      <td>0.975800</td>\n",
       "      <td>0.999590</td>\n",
       "      <td>0.984088</td>\n",
       "      <td>0.997951</td>\n",
       "      <td>0.988576</td>\n",
       "      <td>0.909160</td>\n",
       "      <td>0.986227</td>\n",
       "      <td>0.000000</td>\n",
       "      <td>0.997945</td>\n",
       "    </tr>\n",
       "    <tr>\n",
       "      <th>2</th>\n",
       "      <td>Recall</td>\n",
       "      <td>0.997541</td>\n",
       "      <td>0.999590</td>\n",
       "      <td>0.975000</td>\n",
       "      <td>1.000000</td>\n",
       "      <td>0.988525</td>\n",
       "      <td>0.997951</td>\n",
       "      <td>0.531967</td>\n",
       "      <td>0.976230</td>\n",
       "      <td>0.968443</td>\n",
       "      <td>0.000000</td>\n",
       "      <td>0.995082</td>\n",
       "    </tr>\n",
       "    <tr>\n",
       "      <th>3</th>\n",
       "      <td>F1Score</td>\n",
       "      <td>0.998564</td>\n",
       "      <td>0.999590</td>\n",
       "      <td>0.975400</td>\n",
       "      <td>0.999795</td>\n",
       "      <td>0.986301</td>\n",
       "      <td>0.997951</td>\n",
       "      <td>0.691713</td>\n",
       "      <td>0.941502</td>\n",
       "      <td>0.977254</td>\n",
       "      <td>0.000000</td>\n",
       "      <td>0.996511</td>\n",
       "    </tr>\n",
       "    <tr>\n",
       "      <th>4</th>\n",
       "      <td>ROC AUC</td>\n",
       "      <td>0.998585</td>\n",
       "      <td>0.999610</td>\n",
       "      <td>0.976562</td>\n",
       "      <td>0.999815</td>\n",
       "      <td>0.987032</td>\n",
       "      <td>0.998048</td>\n",
       "      <td>0.763203</td>\n",
       "      <td>0.943992</td>\n",
       "      <td>0.978103</td>\n",
       "      <td>0.500000</td>\n",
       "      <td>0.996614</td>\n",
       "    </tr>\n",
       "  </tbody>\n",
       "</table>\n",
       "</div>"
      ],
      "text/plain": [
       "     Metrics  MobileNetV3 Small Tuned  MobileNetV3 Large Tuned  \\\n",
       "0   Accuracy                 0.998637                 0.999611   \n",
       "1  Precision                 0.999589                 0.999590   \n",
       "2     Recall                 0.997541                 0.999590   \n",
       "3    F1Score                 0.998564                 0.999590   \n",
       "4    ROC AUC                 0.998585                 0.999610   \n",
       "\n",
       "   NASNetMobile Tuned  EfficientNetV2B0 Tuned  DenseNet121 Tuned  \\\n",
       "0            0.976640                0.999805           0.986957   \n",
       "1            0.975800                0.999590           0.984088   \n",
       "2            0.975000                1.000000           0.988525   \n",
       "3            0.975400                0.999795           0.986301   \n",
       "4            0.976562                0.999815           0.987032   \n",
       "\n",
       "   ResNet50 Tuned  ResNet50V2 Tuned  InceptionV3 Tuned  Xception Tuned  \\\n",
       "0        0.998053          0.774771           0.942379        0.978587   \n",
       "1        0.997951          0.988576           0.909160        0.986227   \n",
       "2        0.997951          0.531967           0.976230        0.968443   \n",
       "3        0.997951          0.691713           0.941502        0.977254   \n",
       "4        0.998048          0.763203           0.943992        0.978103   \n",
       "\n",
       "   InceptionResNetV2 Tuned  VGG16 Tuned  \n",
       "0                 0.525015     0.996691  \n",
       "1                 0.000000     0.997945  \n",
       "2                 0.000000     0.995082  \n",
       "3                 0.000000     0.996511  \n",
       "4                 0.500000     0.996614  "
      ]
     },
     "execution_count": 35,
     "metadata": {},
     "output_type": "execute_result"
    }
   ],
   "source": [
    "model_results.head(10)"
   ]
  },
  {
   "cell_type": "code",
   "execution_count": 36,
   "id": "5b31a573",
   "metadata": {},
   "outputs": [],
   "source": [
    "model_results.to_csv('../results/tuned_image_model_results.csv', index=True)"
   ]
  },
  {
   "cell_type": "code",
   "execution_count": null,
   "id": "6d682ec1",
   "metadata": {},
   "outputs": [],
   "source": []
  }
 ],
 "metadata": {
  "kernelspec": {
   "display_name": "Python 3 (ipykernel)",
   "language": "python",
   "name": "python3"
  },
  "language_info": {
   "codemirror_mode": {
    "name": "ipython",
    "version": 3
   },
   "file_extension": ".py",
   "mimetype": "text/x-python",
   "name": "python",
   "nbconvert_exporter": "python",
   "pygments_lexer": "ipython3",
   "version": "3.9.7"
  },
  "toc": {
   "base_numbering": 1,
   "nav_menu": {},
   "number_sections": false,
   "sideBar": true,
   "skip_h1_title": false,
   "title_cell": "Table of Contents",
   "title_sidebar": "Contents",
   "toc_cell": false,
   "toc_position": {},
   "toc_section_display": true,
   "toc_window_display": false
  }
 },
 "nbformat": 4,
 "nbformat_minor": 5
}
